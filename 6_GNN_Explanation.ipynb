{
  "nbformat": 4,
  "nbformat_minor": 0,
  "metadata": {
    "colab": {
      "provenance": []
    },
    "kernelspec": {
      "display_name": "Python 3",
      "name": "python3"
    }
  },
  "cells": [
    {
      "cell_type": "code",
      "metadata": {
        "colab": {
          "base_uri": "https://localhost:8080/"
        },
        "id": "F1op-CbyLuN4",
        "outputId": "ad391923-6515-4737-dec5-abb4b76778ea"
      },
      "source": [
        "# Install required packages.\n",
        "import os\n",
        "import torch\n",
        "os.environ['TORCH'] = torch.__version__\n",
        "print(torch.__version__)\n",
        "\n",
        "!pip install -q torch-scatter -f https://data.pyg.org/whl/torch-${TORCH}.html\n",
        "!pip install -q torch-sparse -f https://data.pyg.org/whl/torch-${TORCH}.html\n",
        "!pip install -q git+https://github.com/pyg-team/pytorch_geometric.git\n",
        "!pip install -q captum\n",
        "\n",
        "# Helper function for visualization.\n",
        "%matplotlib inline\n",
        "import matplotlib.pyplot as plt"
      ],
      "execution_count": null,
      "outputs": [
        {
          "output_type": "stream",
          "name": "stdout",
          "text": [
            "1.11.0+cu113\n",
            "\u001b[K     |████████████████████████████████| 7.9 MB 7.8 MB/s \n",
            "\u001b[K     |████████████████████████████████| 3.5 MB 9.8 MB/s \n",
            "\u001b[?25h  Building wheel for torch-geometric (setup.py) ... \u001b[?25l\u001b[?25hdone\n",
            "\u001b[K     |████████████████████████████████| 1.4 MB 10.2 MB/s \n",
            "\u001b[?25h"
          ]
        }
      ]
    },
    {
      "cell_type": "markdown",
      "metadata": {
        "id": "nMTL0kk0seBw"
      },
      "source": [
        "# Explaining GNN Model Predictions using Captum\n",
        "\n",
        "In this tutorial we demonstrate how to apply feature attribution methods to graphs. Specifically, we try to find the most important edges for each instance prediction.  \n",
        "\n",
        "We use the Mutagenicity dataset from [TUDatasets](https://chrsmrrs.github.io/datasets/). This dataset consists of 4337 molecule graphs where the task is to predict the molecule mutagenicity."
      ]
    },
    {
      "cell_type": "markdown",
      "metadata": {
        "id": "mJtgD2A1uJAa"
      },
      "source": [
        "## Loading the dataset\n",
        "\n",
        "We load the dataset and use 10% of the data as the test split."
      ]
    },
    {
      "cell_type": "code",
      "metadata": {
        "colab": {
          "base_uri": "https://localhost:8080/"
        },
        "id": "SE2iREv4q2dL",
        "outputId": "25b13669-9aa3-44d1-cd9a-62d357b466ee"
      },
      "source": [
        "from torch_geometric.loader import DataLoader\n",
        "from torch_geometric.datasets import TUDataset\n",
        "\n",
        "path = '.'\n",
        "dataset = TUDataset(path, name='Mutagenicity').shuffle()\n",
        "test_dataset = dataset[:len(dataset) // 10]\n",
        "train_dataset = dataset[len(dataset) // 10:]\n",
        "test_loader = DataLoader(test_dataset, batch_size=128)\n",
        "train_loader = DataLoader(train_dataset, batch_size=128)"
      ],
      "execution_count": null,
      "outputs": [
        {
          "output_type": "stream",
          "name": "stderr",
          "text": [
            "Downloading https://www.chrsmrrs.com/graphkerneldatasets/Mutagenicity.zip\n",
            "Extracting ./Mutagenicity/Mutagenicity.zip\n",
            "Processing...\n",
            "Done!\n"
          ]
        }
      ]
    },
    {
      "cell_type": "markdown",
      "metadata": {
        "id": "g35SSQ3oukNM"
      },
      "source": [
        "## Visualizing the data\n",
        "\n",
        "We define some utility functions for visualizing the molecules and draw a random molecule."
      ]
    },
    {
      "cell_type": "code",
      "metadata": {
        "id": "9Hh3YNASuYxm"
      },
      "source": [
        "import networkx as nx\n",
        "import numpy as np\n",
        "\n",
        "from torch_geometric.utils import to_networkx\n",
        "\n",
        "\n",
        "def draw_molecule(g, edge_mask=None, draw_edge_labels=False):\n",
        "    g = g.copy().to_undirected()\n",
        "    node_labels = {}\n",
        "    for u, data in g.nodes(data=True):\n",
        "        node_labels[u] = data['name']\n",
        "    pos = nx.planar_layout(g)\n",
        "    pos = nx.spring_layout(g, pos=pos)\n",
        "    if edge_mask is None:\n",
        "        edge_color = 'black'\n",
        "        widths = None\n",
        "    else:\n",
        "        edge_color = [edge_mask[(u, v)] for u, v in g.edges()]\n",
        "        widths = [x * 10 for x in edge_color]\n",
        "    nx.draw(g, pos=pos, labels=node_labels, width=widths,\n",
        "            edge_color=edge_color, edge_cmap=plt.cm.Blues,\n",
        "            node_color='azure')\n",
        "\n",
        "    if draw_edge_labels and edge_mask is not None:\n",
        "        edge_labels = {k: ('%.2f' % v) for k, v in edge_mask.items()}\n",
        "        nx.draw_networkx_edge_labels(g, pos, edge_labels=edge_labels,\n",
        "                                    font_color='red')\n",
        "    plt.show()\n",
        "\n",
        "\n",
        "def to_molecule(data):\n",
        "    ATOM_MAP = ['C', 'O', 'Cl', 'H', 'N', 'F',\n",
        "                'Br', 'S', 'P', 'I', 'Na', 'K', 'Li', 'Ca']\n",
        "    g = to_networkx(data, node_attrs=['x'])\n",
        "    for u, data in g.nodes(data=True):\n",
        "        data['name'] = ATOM_MAP[data['x'].index(1.0)]\n",
        "        del data['x']\n",
        "    return g\n"
      ],
      "execution_count": null,
      "outputs": []
    },
    {
      "cell_type": "markdown",
      "metadata": {
        "id": "cJ3JuTH1vV1V"
      },
      "source": [
        "## Sample visualization\n",
        "\n",
        "We sample a single molecule from train_dataset and visualize it"
      ]
    },
    {
      "cell_type": "code",
      "metadata": {
        "colab": {
          "base_uri": "https://localhost:8080/",
          "height": 391
        },
        "id": "4Z2uE7zVuhXU",
        "outputId": "14795a19-032e-4836-b07d-b5fe6b594e7f"
      },
      "source": [
        "import random\n",
        "\n",
        "data = random.choice([t for t in train_dataset])\n",
        "mol = to_molecule(data)\n",
        "plt.figure(figsize=(10, 5))\n",
        "draw_molecule(mol)"
      ],
      "execution_count": null,
      "outputs": [
        {
          "data": {
            "image/png": "[encoded data removed]",
            "text/plain": [
              "<Figure size 720x360 with 1 Axes>"
            ]
          },
          "metadata": {},
          "output_type": "display_data"
        }
      ]
    },
    {
      "cell_type": "markdown",
      "metadata": {
        "id": "6kZo9g1hwCGG"
      },
      "source": [
        "## Training the model\n",
        "\n",
        "In the next section, we train a GNN model with 5 convolution layers. We use GraphConv which supports `edge_weight` as a parameter. Many convolution layers in Pytorch Geometric supoort this argument."
      ]
    },
    {
      "cell_type": "markdown",
      "metadata": {
        "id": "GBVIOfMCCHAb"
      },
      "source": [
        "### Define the model"
      ]
    },
    {
      "cell_type": "code",
      "metadata": {
        "id": "iI1qpFUhrA2p"
      },
      "source": [
        "import torch\n",
        "from torch.nn import Linear\n",
        "import torch.nn.functional as F\n",
        "\n",
        "from torch_geometric.nn import GraphConv, global_add_pool\n",
        "\n",
        "class Net(torch.nn.Module):\n",
        "    def __init__(self, dim):\n",
        "        super(Net, self).__init__()\n",
        "\n",
        "        num_features = dataset.num_features\n",
        "        self.dim = dim\n",
        "\n",
        "        self.conv1 = GraphConv(num_features, dim)\n",
        "        self.conv2 = GraphConv(dim, dim)\n",
        "        self.conv3 = GraphConv(dim, dim)\n",
        "        self.conv4 = GraphConv(dim, dim)\n",
        "        self.conv5 = GraphConv(dim, dim)\n",
        "\n",
        "        self.lin1 = Linear(dim, dim)\n",
        "        self.lin2 = Linear(dim, dataset.num_classes)\n",
        "\n",
        "    def forward(self, x, edge_index, batch, edge_weight=None):\n",
        "        x = self.conv1(x, edge_index, edge_weight).relu()\n",
        "        x = self.conv2(x, edge_index, edge_weight).relu()\n",
        "        x = self.conv3(x, edge_index, edge_weight).relu()\n",
        "        x = self.conv4(x, edge_index, edge_weight).relu()\n",
        "        x = self.conv5(x, edge_index, edge_weight).relu()\n",
        "        x = global_add_pool(x, batch)\n",
        "        x = self.lin1(x).relu()\n",
        "        x = F.dropout(x, p=0.5, training=self.training)\n",
        "        x = self.lin2(x)\n",
        "        return F.log_softmax(x, dim=-1)\n"
      ],
      "execution_count": null,
      "outputs": []
    },
    {
      "cell_type": "markdown",
      "metadata": {
        "id": "L3WOZ40OCKO5"
      },
      "source": [
        "### Define train and test functions"
      ]
    },
    {
      "cell_type": "code",
      "metadata": {
        "id": "ExNsODp3rKjN"
      },
      "source": [
        "def train(epoch):\n",
        "    model.train()\n",
        "\n",
        "    if epoch == 51:\n",
        "        for param_group in optimizer.param_groups:\n",
        "            param_group['lr'] = 0.5 * param_group['lr']\n",
        "\n",
        "    loss_all = 0\n",
        "    for data in train_loader:\n",
        "        data = data.to(device)\n",
        "        optimizer.zero_grad()\n",
        "        output = model(data.x, data.edge_index, data.batch)\n",
        "        loss = F.nll_loss(output, data.y)\n",
        "        loss.backward()\n",
        "        loss_all += loss.item() * data.num_graphs\n",
        "        optimizer.step()\n",
        "    return loss_all / len(train_dataset)\n",
        "\n",
        "\n",
        "def test(loader):\n",
        "    model.eval()\n",
        "\n",
        "    correct = 0\n",
        "    for data in loader:\n",
        "        data = data.to(device)\n",
        "        output = model(data.x, data.edge_index, data.batch)\n",
        "        pred = output.max(dim=1)[1]\n",
        "        correct += pred.eq(data.y).sum().item()\n",
        "    return correct / len(loader.dataset)"
      ],
      "execution_count": null,
      "outputs": []
    },
    {
      "cell_type": "markdown",
      "metadata": {
        "id": "rsv9CQ6hCNMI"
      },
      "source": [
        "### Train the model for 100 epochs\n",
        "\n",
        "The accuracy should be around 80% in the end"
      ]
    },
    {
      "cell_type": "code",
      "metadata": {
        "colab": {
          "base_uri": "https://localhost:8080/"
        },
        "id": "4imSoTlMrQdN",
        "outputId": "410f11c4-8fac-4086-80a1-46bd4c0a8709"
      },
      "source": [
        "device = torch.device('cuda' if torch.cuda.is_available() else 'cpu')\n",
        "model = Net(dim=32).to(device)\n",
        "optimizer = torch.optim.Adam(model.parameters(), lr=0.001)\n",
        "\n",
        "for epoch in range(1, 101):\n",
        "    loss = train(epoch)\n",
        "    train_acc = test(train_loader)\n",
        "    test_acc = test(test_loader)\n",
        "    print(f'Epoch: {epoch:03d}, Loss: {loss:.4f}, '\n",
        "          f'Train Acc: {train_acc:.4f}, Test Acc: {test_acc:.4f}')\n"
      ],
      "execution_count": null,
      "outputs": [
        {
          "name": "stdout",
          "output_type": "stream",
          "text": [
            "Epoch: 001, Loss: 0.7441, Train Acc: 0.5904, Test Acc: 0.5473\n",
            "Epoch: 002, Loss: 0.6459, Train Acc: 0.6550, Test Acc: 0.6328\n",
            "Epoch: 003, Loss: 0.6112, Train Acc: 0.7018, Test Acc: 0.6975\n",
            "Epoch: 004, Loss: 0.5862, Train Acc: 0.7152, Test Acc: 0.7136\n",
            "Epoch: 005, Loss: 0.5750, Train Acc: 0.7318, Test Acc: 0.7206\n",
            "Epoch: 006, Loss: 0.5557, Train Acc: 0.7392, Test Acc: 0.7390\n",
            "Epoch: 007, Loss: 0.5473, Train Acc: 0.7464, Test Acc: 0.7367\n",
            "Epoch: 008, Loss: 0.5433, Train Acc: 0.7403, Test Acc: 0.7321\n",
            "Epoch: 009, Loss: 0.5469, Train Acc: 0.7551, Test Acc: 0.7483\n",
            "Epoch: 010, Loss: 0.5243, Train Acc: 0.7779, Test Acc: 0.7483\n",
            "Epoch: 011, Loss: 0.5178, Train Acc: 0.7772, Test Acc: 0.7529\n",
            "Epoch: 012, Loss: 0.4972, Train Acc: 0.7787, Test Acc: 0.7575\n",
            "Epoch: 013, Loss: 0.4926, Train Acc: 0.7797, Test Acc: 0.7529\n",
            "Epoch: 014, Loss: 0.4908, Train Acc: 0.7900, Test Acc: 0.7852\n",
            "Epoch: 015, Loss: 0.4843, Train Acc: 0.7971, Test Acc: 0.7552\n",
            "Epoch: 016, Loss: 0.4906, Train Acc: 0.7825, Test Acc: 0.7483\n",
            "Epoch: 017, Loss: 0.4744, Train Acc: 0.8048, Test Acc: 0.7737\n",
            "Epoch: 018, Loss: 0.4581, Train Acc: 0.8069, Test Acc: 0.7691\n",
            "Epoch: 019, Loss: 0.4522, Train Acc: 0.8110, Test Acc: 0.7737\n",
            "Epoch: 020, Loss: 0.4546, Train Acc: 0.8071, Test Acc: 0.7968\n",
            "Epoch: 021, Loss: 0.4520, Train Acc: 0.8110, Test Acc: 0.7598\n",
            "Epoch: 022, Loss: 0.4441, Train Acc: 0.8148, Test Acc: 0.7829\n",
            "Epoch: 023, Loss: 0.4572, Train Acc: 0.8015, Test Acc: 0.7783\n",
            "Epoch: 024, Loss: 0.4407, Train Acc: 0.8215, Test Acc: 0.7783\n",
            "Epoch: 025, Loss: 0.4382, Train Acc: 0.8153, Test Acc: 0.7806\n",
            "Epoch: 026, Loss: 0.4296, Train Acc: 0.8240, Test Acc: 0.7829\n",
            "Epoch: 027, Loss: 0.4234, Train Acc: 0.8158, Test Acc: 0.7829\n",
            "Epoch: 028, Loss: 0.4233, Train Acc: 0.8163, Test Acc: 0.7829\n",
            "Epoch: 029, Loss: 0.4221, Train Acc: 0.8112, Test Acc: 0.7829\n",
            "Epoch: 030, Loss: 0.4138, Train Acc: 0.8227, Test Acc: 0.7829\n",
            "Epoch: 031, Loss: 0.4158, Train Acc: 0.8199, Test Acc: 0.7737\n",
            "Epoch: 032, Loss: 0.4070, Train Acc: 0.8289, Test Acc: 0.7852\n",
            "Epoch: 033, Loss: 0.4043, Train Acc: 0.8202, Test Acc: 0.7852\n",
            "Epoch: 034, Loss: 0.4047, Train Acc: 0.8263, Test Acc: 0.7945\n",
            "Epoch: 035, Loss: 0.4024, Train Acc: 0.8181, Test Acc: 0.7875\n",
            "Epoch: 036, Loss: 0.4050, Train Acc: 0.8376, Test Acc: 0.7945\n",
            "Epoch: 037, Loss: 0.3865, Train Acc: 0.8363, Test Acc: 0.7945\n",
            "Epoch: 038, Loss: 0.3889, Train Acc: 0.8274, Test Acc: 0.7945\n",
            "Epoch: 039, Loss: 0.3964, Train Acc: 0.8176, Test Acc: 0.7991\n",
            "Epoch: 040, Loss: 0.3856, Train Acc: 0.8407, Test Acc: 0.8199\n",
            "Epoch: 041, Loss: 0.3877, Train Acc: 0.8391, Test Acc: 0.8037\n",
            "Epoch: 042, Loss: 0.3901, Train Acc: 0.8448, Test Acc: 0.7991\n",
            "Epoch: 043, Loss: 0.3802, Train Acc: 0.8448, Test Acc: 0.7991\n",
            "Epoch: 044, Loss: 0.3781, Train Acc: 0.8363, Test Acc: 0.8037\n",
            "Epoch: 045, Loss: 0.3817, Train Acc: 0.8543, Test Acc: 0.8176\n",
            "Epoch: 046, Loss: 0.3673, Train Acc: 0.8491, Test Acc: 0.8152\n",
            "Epoch: 047, Loss: 0.3666, Train Acc: 0.8409, Test Acc: 0.8152\n",
            "Epoch: 048, Loss: 0.3729, Train Acc: 0.8430, Test Acc: 0.8060\n",
            "Epoch: 049, Loss: 0.3651, Train Acc: 0.8484, Test Acc: 0.8176\n",
            "Epoch: 050, Loss: 0.3740, Train Acc: 0.8522, Test Acc: 0.8129\n",
            "Epoch: 051, Loss: 0.3615, Train Acc: 0.8578, Test Acc: 0.8014\n",
            "Epoch: 052, Loss: 0.3554, Train Acc: 0.8632, Test Acc: 0.8060\n",
            "Epoch: 053, Loss: 0.3490, Train Acc: 0.8607, Test Acc: 0.7921\n",
            "Epoch: 054, Loss: 0.3427, Train Acc: 0.8642, Test Acc: 0.8083\n",
            "Epoch: 055, Loss: 0.3324, Train Acc: 0.8635, Test Acc: 0.7898\n",
            "Epoch: 056, Loss: 0.3350, Train Acc: 0.8681, Test Acc: 0.8106\n",
            "Epoch: 057, Loss: 0.3296, Train Acc: 0.8704, Test Acc: 0.8152\n",
            "Epoch: 058, Loss: 0.3381, Train Acc: 0.8642, Test Acc: 0.8245\n",
            "Epoch: 059, Loss: 0.3298, Train Acc: 0.8683, Test Acc: 0.8152\n",
            "Epoch: 060, Loss: 0.3284, Train Acc: 0.8712, Test Acc: 0.8152\n",
            "Epoch: 061, Loss: 0.3288, Train Acc: 0.8660, Test Acc: 0.8014\n",
            "Epoch: 062, Loss: 0.3295, Train Acc: 0.8701, Test Acc: 0.8014\n",
            "Epoch: 063, Loss: 0.3274, Train Acc: 0.8637, Test Acc: 0.7921\n",
            "Epoch: 064, Loss: 0.3284, Train Acc: 0.8681, Test Acc: 0.8014\n",
            "Epoch: 065, Loss: 0.3278, Train Acc: 0.8632, Test Acc: 0.7945\n",
            "Epoch: 066, Loss: 0.3222, Train Acc: 0.8645, Test Acc: 0.7968\n",
            "Epoch: 067, Loss: 0.3249, Train Acc: 0.8730, Test Acc: 0.7991\n",
            "Epoch: 068, Loss: 0.3107, Train Acc: 0.8717, Test Acc: 0.8014\n",
            "Epoch: 069, Loss: 0.3219, Train Acc: 0.8760, Test Acc: 0.7968\n",
            "Epoch: 070, Loss: 0.3127, Train Acc: 0.8763, Test Acc: 0.8060\n",
            "Epoch: 071, Loss: 0.3111, Train Acc: 0.8799, Test Acc: 0.8060\n",
            "Epoch: 072, Loss: 0.3119, Train Acc: 0.8599, Test Acc: 0.8060\n",
            "Epoch: 073, Loss: 0.3134, Train Acc: 0.8696, Test Acc: 0.7921\n",
            "Epoch: 074, Loss: 0.3067, Train Acc: 0.8770, Test Acc: 0.7991\n",
            "Epoch: 075, Loss: 0.3108, Train Acc: 0.8768, Test Acc: 0.7968\n",
            "Epoch: 076, Loss: 0.3090, Train Acc: 0.8809, Test Acc: 0.7991\n",
            "Epoch: 077, Loss: 0.3002, Train Acc: 0.8791, Test Acc: 0.8014\n",
            "Epoch: 078, Loss: 0.3116, Train Acc: 0.8699, Test Acc: 0.7875\n",
            "Epoch: 079, Loss: 0.3068, Train Acc: 0.8753, Test Acc: 0.7921\n",
            "Epoch: 080, Loss: 0.3019, Train Acc: 0.8760, Test Acc: 0.7991\n",
            "Epoch: 081, Loss: 0.3026, Train Acc: 0.8691, Test Acc: 0.7829\n",
            "Epoch: 082, Loss: 0.2940, Train Acc: 0.8768, Test Acc: 0.7968\n",
            "Epoch: 083, Loss: 0.2946, Train Acc: 0.8783, Test Acc: 0.8152\n",
            "Epoch: 084, Loss: 0.2936, Train Acc: 0.8827, Test Acc: 0.8060\n",
            "Epoch: 085, Loss: 0.2945, Train Acc: 0.8747, Test Acc: 0.8014\n",
            "Epoch: 086, Loss: 0.2948, Train Acc: 0.8735, Test Acc: 0.7875\n",
            "Epoch: 087, Loss: 0.2940, Train Acc: 0.8801, Test Acc: 0.8060\n",
            "Epoch: 088, Loss: 0.2905, Train Acc: 0.8842, Test Acc: 0.8060\n",
            "Epoch: 089, Loss: 0.3051, Train Acc: 0.8614, Test Acc: 0.8222\n",
            "Epoch: 090, Loss: 0.3221, Train Acc: 0.8699, Test Acc: 0.7968\n",
            "Epoch: 091, Loss: 0.2995, Train Acc: 0.8809, Test Acc: 0.8037\n",
            "Epoch: 092, Loss: 0.2845, Train Acc: 0.8886, Test Acc: 0.8176\n",
            "Epoch: 093, Loss: 0.2907, Train Acc: 0.8899, Test Acc: 0.8152\n",
            "Epoch: 094, Loss: 0.2846, Train Acc: 0.8837, Test Acc: 0.7991\n",
            "Epoch: 095, Loss: 0.2774, Train Acc: 0.8878, Test Acc: 0.8060\n",
            "Epoch: 096, Loss: 0.2893, Train Acc: 0.8824, Test Acc: 0.7921\n",
            "Epoch: 097, Loss: 0.2769, Train Acc: 0.8870, Test Acc: 0.7991\n",
            "Epoch: 098, Loss: 0.2789, Train Acc: 0.8919, Test Acc: 0.8060\n",
            "Epoch: 099, Loss: 0.2794, Train Acc: 0.8901, Test Acc: 0.8037\n",
            "Epoch: 100, Loss: 0.2770, Train Acc: 0.8852, Test Acc: 0.7945\n"
          ]
        }
      ]
    },
    {
      "cell_type": "markdown",
      "metadata": {
        "id": "PzX9xwFxCTff"
      },
      "source": [
        "## Explaining the predictions\n",
        "\n",
        "Now we look at two popular attribution methods. First, we calculate the gradient of the output with respect to the edge weights $w_{e_i}$. Edge weights are initially one for all edges.\n",
        "For the saliency method, we use the absolute value of the gradient as the attribution value for each edge:\n",
        "\n",
        "$$\n",
        "Attribution_{e_i} = |\\frac{\\partial F(x)}{\\partial w_{e_i}}|\n",
        "$$\n",
        "\n",
        "Where $x$ is the input and $F(x)$ is the output of the GNN model on input $x$.\n",
        "\n",
        "For Integrated Gradients method, we interpolate between the current input and a baseline input where the weight of all edges is zero and accumulate the gradient values for each edge:\n",
        "\n",
        "$$\n",
        "Attribution_{e_i} = \\int_{\\alpha =0}^1 \\frac{\\partial F(x_{\\alpha)}}{\\partial w_{e_i}} d\\alpha\n",
        "$$\n",
        "\n",
        "Where $x_{\\alpha}$ is the same as the original input graph but the weight of all edges is set to $\\alpha$. Integrated Gradients complete formulation is more complicated but since our initial edge weights are equal to one and the baseline is zero, it can be simplified to the formulation above. You can read more about this method [here](https://arxiv.org/abs/1703.01365). Of course, this can not be calculated directly and is approximated by a discrete sum.\n",
        "\n",
        "We use the [captum](https://captum.ai/) library for calculating the attribution values. We define the `model_forward` function which calculates the `batch` argument assuming that we are only explaining a single graph at a time.\n",
        "\n"
      ]
    },
    {
      "cell_type": "code",
      "metadata": {
        "id": "Wz6B1NgorzAX"
      },
      "source": [
        "from captum.attr import Saliency, IntegratedGradients\n",
        "\n",
        "def model_forward(edge_mask, data):\n",
        "    batch = torch.zeros(data.x.shape[0], dtype=int).to(device)\n",
        "    out = model(data.x, data.edge_index, batch, edge_mask)\n",
        "    return out\n",
        "\n",
        "\n",
        "def explain(method, data, target=0):\n",
        "    input_mask = torch.ones(data.edge_index.shape[1]).requires_grad_(True).to(device)\n",
        "    if method == 'ig':\n",
        "        ig = IntegratedGradients(model_forward)\n",
        "        mask = ig.attribute(input_mask, target=target,\n",
        "                            additional_forward_args=(data,),\n",
        "                            internal_batch_size=data.edge_index.shape[1])\n",
        "    elif method == 'saliency':\n",
        "        saliency = Saliency(model_forward)\n",
        "        mask = saliency.attribute(input_mask, target=target,\n",
        "                                  additional_forward_args=(data,))\n",
        "    else:\n",
        "        raise Exception('Unknown explanation method')\n",
        "\n",
        "    edge_mask = np.abs(mask.cpu().detach().numpy())\n",
        "    if edge_mask.max() > 0:  # avoid division by zero\n",
        "        edge_mask = edge_mask / edge_mask.max()\n",
        "    return edge_mask"
      ],
      "execution_count": null,
      "outputs": []
    },
    {
      "cell_type": "markdown",
      "metadata": {
        "id": "0FPGLRtSFacR"
      },
      "source": [
        "Finally we take a random sample from the test dataset and run the explanation methods. For a simpler visualization, we make the graph undirected and merge the explanations of each edge in both directions.\n",
        "\n",
        "It is known that NO2 substructure makes the molecules mutagenic in many cases and you can verify this by the model explanations.\n",
        "\n",
        "Mutagenic molecules have label 0 in this dataset and we only sample from those molecules but you can change the code and see the explanations for the other class as well.\n",
        "\n",
        "In this visualization, edge colors and thickness represent the importance. You can also see the numeric value by passing `draw_edge_labels` to `draw_molecule` function.\n",
        "\n",
        "As you can see Integrated Gradients tend to create more accurate explanations."
      ]
    },
    {
      "cell_type": "code",
      "metadata": {
        "colab": {
          "base_uri": "https://localhost:8080/",
          "height": 621
        },
        "id": "Z1mJVbKorh5y",
        "outputId": "771555b4-e2b0-4701-984c-88537723f10c"
      },
      "source": [
        "import random\n",
        "from collections import defaultdict\n",
        "\n",
        "def aggregate_edge_directions(edge_mask, data):\n",
        "    edge_mask_dict = defaultdict(float)\n",
        "    for val, u, v in list(zip(edge_mask, *data.edge_index)):\n",
        "        u, v = u.item(), v.item()\n",
        "        if u > v:\n",
        "            u, v = v, u\n",
        "        edge_mask_dict[(u, v)] += val\n",
        "    return edge_mask_dict\n",
        "\n",
        "\n",
        "data = random.choice([t for t in test_dataset if not t.y.item()])\n",
        "mol = to_molecule(data)\n",
        "\n",
        "for title, method in [('Integrated Gradients', 'ig'), ('Saliency', 'saliency')]:\n",
        "    edge_mask = explain(method, data, target=0)\n",
        "    edge_mask_dict = aggregate_edge_directions(edge_mask, data)\n",
        "    plt.figure(figsize=(10, 5))\n",
        "    plt.title(title)\n",
        "    draw_molecule(mol, edge_mask_dict)"
      ],
      "execution_count": null,
      "outputs": [
        {
          "data": {
            "image/png": "[encoded data removed]",
            "text/plain": [
              "<Figure size 720x360 with 1 Axes>"
            ]
          },
          "metadata": {},
          "output_type": "display_data"
        },
        {
          "data": {
            "image/png": "[encoded data removed]",
            "text/plain": [
              "<Figure size 720x360 with 1 Axes>"
            ]
          },
          "metadata": {},
          "output_type": "display_data"
        }
      ]
    }
  ]
}