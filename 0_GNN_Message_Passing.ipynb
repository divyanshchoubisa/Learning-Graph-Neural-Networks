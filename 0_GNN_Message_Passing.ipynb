{
  "cells": [
    {
      "cell_type": "code",
      "execution_count": null,
      "metadata": {
        "id": "ZDPGCdJtS3l7"
      },
      "outputs": [],
      "source": [
        "import numpy as np\n",
        "from scipy.linalg import sqrtm\n",
        "from scipy.special import softmax\n",
        "import networkx as nx\n",
        "from networkx.algorithms.community.modularity_max import greedy_modularity_communities\n",
        "import matplotlib.pyplot as plt\n",
        "from matplotlib import animation\n",
        "%matplotlib inline\n",
        "from IPython.display import HTML"
      ]
    },
    {
      "cell_type": "markdown",
      "metadata": {
        "id": "iHlbX9apS3mA"
      },
      "source": [
        "# Message Passing as Matrix Multiplication"
      ]
    },
    {
      "cell_type": "code",
      "execution_count": null,
      "metadata": {
        "id": "39FT78hnS3mC",
        "outputId": "1d79f2b7-c8cc-4bfd-d72c-821a9d193c17",
        "colab": {
          "base_uri": "https://localhost:8080/"
        }
      },
      "outputs": [
        {
          "output_type": "execute_result",
          "data": {
            "text/plain": [
              "array([[0, 1, 0, 0, 0],\n",
              "       [1, 0, 1, 0, 0],\n",
              "       [0, 1, 0, 1, 1],\n",
              "       [0, 0, 1, 0, 0],\n",
              "       [0, 0, 1, 0, 0]])"
            ]
          },
          "metadata": {},
          "execution_count": 2
        }
      ],
      "source": [
        "A = np.array(\n",
        "    [[0, 1, 0, 0, 0], [1, 0, 1, 0, 0], [0, 1, 0, 1, 1], [0, 0, 1, 0, 0], [0, 0, 1, 0, 0]]\n",
        ")\n",
        "A"
      ]
    },
    {
      "cell_type": "code",
      "execution_count": null,
      "metadata": {
        "id": "VBscMl1zS3mE",
        "outputId": "7a548a3d-f9c3-45cd-e839-61456a6ca23f",
        "colab": {
          "base_uri": "https://localhost:8080/"
        }
      },
      "outputs": [
        {
          "output_type": "execute_result",
          "data": {
            "text/plain": [
              "array([[1],\n",
              "       [2],\n",
              "       [3],\n",
              "       [4],\n",
              "       [5]])"
            ]
          },
          "metadata": {},
          "execution_count": 3
        }
      ],
      "source": [
        "feats = np.arange(A.shape[0]).reshape((-1,1))+1\n",
        "feats"
      ]
    },
    {
      "cell_type": "code",
      "execution_count": null,
      "metadata": {
        "id": "kucNK04eS3mE",
        "outputId": "75175781-dfad-4a3c-bbc5-787053862124",
        "colab": {
          "base_uri": "https://localhost:8080/"
        }
      },
      "outputs": [
        {
          "output_type": "execute_result",
          "data": {
            "text/plain": [
              "array([[ 2],\n",
              "       [ 4],\n",
              "       [11],\n",
              "       [ 3],\n",
              "       [ 3]])"
            ]
          },
          "metadata": {},
          "execution_count": 4
        }
      ],
      "source": [
        "H = A @ feats\n",
        "H"
      ]
    },
    {
      "cell_type": "markdown",
      "metadata": {
        "id": "GdviOC4VS3mF"
      },
      "source": [
        "## Scale neighborhood sum by neighborhood size (i.e. average values)"
      ]
    },
    {
      "cell_type": "code",
      "execution_count": null,
      "metadata": {
        "id": "i_9UWhL_S3mF",
        "outputId": "72d86d42-dbeb-4a7c-c77f-c3b5591076ef",
        "colab": {
          "base_uri": "https://localhost:8080/"
        }
      },
      "outputs": [
        {
          "output_type": "execute_result",
          "data": {
            "text/plain": [
              "array([[1., 0., 0., 0., 0.],\n",
              "       [0., 2., 0., 0., 0.],\n",
              "       [0., 0., 3., 0., 0.],\n",
              "       [0., 0., 0., 1., 0.],\n",
              "       [0., 0., 0., 0., 1.]])"
            ]
          },
          "metadata": {},
          "execution_count": 5
        }
      ],
      "source": [
        "D = np.zeros(A.shape)\n",
        "np.fill_diagonal(D, A.sum(axis=0))\n",
        "D"
      ]
    },
    {
      "cell_type": "code",
      "execution_count": null,
      "metadata": {
        "id": "eDo1fFXVS3mF",
        "outputId": "6671ea1c-4229-4949-c2a4-dfe13450de2c",
        "colab": {
          "base_uri": "https://localhost:8080/"
        }
      },
      "outputs": [
        {
          "output_type": "execute_result",
          "data": {
            "text/plain": [
              "array([[1.        , 0.        , 0.        , 0.        , 0.        ],\n",
              "       [0.        , 0.5       , 0.        , 0.        , 0.        ],\n",
              "       [0.        , 0.        , 0.33333333, 0.        , 0.        ],\n",
              "       [0.        , 0.        , 0.        , 1.        , 0.        ],\n",
              "       [0.        , 0.        , 0.        , 0.        , 1.        ]])"
            ]
          },
          "metadata": {},
          "execution_count": 6
        }
      ],
      "source": [
        "D_inv = np.linalg.inv(D)\n",
        "D_inv"
      ]
    },
    {
      "cell_type": "code",
      "execution_count": null,
      "metadata": {
        "id": "IxiIH3_bS3mG",
        "outputId": "8b42e2e8-ff6c-493f-8e31-55bdae5c40e2",
        "colab": {
          "base_uri": "https://localhost:8080/"
        }
      },
      "outputs": [
        {
          "output_type": "execute_result",
          "data": {
            "text/plain": [
              "array([[0.        , 1.        , 0.        , 0.        , 0.        ],\n",
              "       [0.5       , 0.        , 0.5       , 0.        , 0.        ],\n",
              "       [0.        , 0.33333333, 0.        , 0.33333333, 0.33333333],\n",
              "       [0.        , 0.        , 1.        , 0.        , 0.        ],\n",
              "       [0.        , 0.        , 1.        , 0.        , 0.        ]])"
            ]
          },
          "metadata": {},
          "execution_count": 7
        }
      ],
      "source": [
        "D_inv @ A"
      ]
    },
    {
      "cell_type": "code",
      "execution_count": null,
      "metadata": {
        "id": "5JZM03KAS3mG",
        "outputId": "07c47b3e-8e1a-49b5-85b5-42f643f0c893",
        "colab": {
          "base_uri": "https://localhost:8080/"
        }
      },
      "outputs": [
        {
          "output_type": "execute_result",
          "data": {
            "text/plain": [
              "array([[2.        ],\n",
              "       [2.        ],\n",
              "       [3.66666667],\n",
              "       [3.        ],\n",
              "       [3.        ]])"
            ]
          },
          "metadata": {},
          "execution_count": 8
        }
      ],
      "source": [
        "H_avg = D_inv @ A @ feats\n",
        "H_avg"
      ]
    },
    {
      "cell_type": "markdown",
      "metadata": {
        "id": "ynsvridYS3mH"
      },
      "source": [
        "## Normalized Adjacency Matrix\n",
        "Ultimately want to define and build:\n",
        "\n",
        "$$ \\hat{A} = \\tilde{D}^{-\\frac{1}{2}} \\tilde{A} \\tilde{D}^{-\\frac{1}{2}} $$\n"
      ]
    },
    {
      "cell_type": "markdown",
      "metadata": {
        "id": "autGk95lS3mH"
      },
      "source": [
        "First, create $\\tilde{A}$:\n",
        "$$ \\tilde{A} = A + I $$"
      ]
    },
    {
      "cell_type": "code",
      "execution_count": null,
      "metadata": {
        "id": "DlzvR1zsS3mH"
      },
      "outputs": [],
      "source": [
        "g = nx.from_numpy_array(A)\n",
        "A_mod = A + np.eye(g.number_of_nodes())"
      ]
    },
    {
      "cell_type": "markdown",
      "metadata": {
        "id": "GE7T6NNPS3mH"
      },
      "source": [
        "Then create $ \\tilde{D}^{-\\frac{1}{2}} $, where $D$ is the diagonal degree matrix:\n",
        "\n",
        "$$ (D)_{ij} = \\delta_{i,j} \\sum_k A_{i,k} $$"
      ]
    },
    {
      "cell_type": "code",
      "execution_count": null,
      "metadata": {
        "id": "vhWAk0jCS3mI"
      },
      "outputs": [],
      "source": [
        "# D for A_mod:\n",
        "D_mod = np.zeros_like(A_mod)\n",
        "np.fill_diagonal(D_mod, A_mod.sum(axis=1).flatten())\n",
        "\n",
        "# Inverse square root of D:\n",
        "D_mod_invroot = np.linalg.inv(sqrtm(D_mod))"
      ]
    },
    {
      "cell_type": "code",
      "execution_count": null,
      "metadata": {
        "id": "IA_xcOhuS3mI",
        "outputId": "9ebe64a8-f572-4e44-8691-4152ed47e648",
        "colab": {
          "base_uri": "https://localhost:8080/"
        }
      },
      "outputs": [
        {
          "output_type": "execute_result",
          "data": {
            "text/plain": [
              "array([[2., 0., 0., 0., 0.],\n",
              "       [0., 3., 0., 0., 0.],\n",
              "       [0., 0., 4., 0., 0.],\n",
              "       [0., 0., 0., 2., 0.],\n",
              "       [0., 0., 0., 0., 2.]])"
            ]
          },
          "metadata": {},
          "execution_count": 11
        }
      ],
      "source": [
        "D_mod"
      ]
    },
    {
      "cell_type": "code",
      "execution_count": null,
      "metadata": {
        "id": "jTLsWYj3S3mI",
        "outputId": "2c2df713-cf38-476e-b126-34e26df065a7",
        "colab": {
          "base_uri": "https://localhost:8080/"
        }
      },
      "outputs": [
        {
          "output_type": "execute_result",
          "data": {
            "text/plain": [
              "array([[0.70710678, 0.        , 0.        , 0.        , 0.        ],\n",
              "       [0.        , 0.57735027, 0.        , 0.        , 0.        ],\n",
              "       [0.        , 0.        , 0.5       , 0.        , 0.        ],\n",
              "       [0.        , 0.        , 0.        , 0.70710678, 0.        ],\n",
              "       [0.        , 0.        , 0.        , 0.        , 0.70710678]])"
            ]
          },
          "metadata": {},
          "execution_count": 12
        }
      ],
      "source": [
        "D_mod_invroot"
      ]
    },
    {
      "cell_type": "markdown",
      "metadata": {
        "id": "MnPa4-TZS3mI"
      },
      "source": [
        "I.e.: $\\frac{1}{\\sqrt{2}}$, $\\frac{1}{\\sqrt{3}}$, $\\frac{1}{\\sqrt{4}}$, ...etc"
      ]
    },
    {
      "cell_type": "code",
      "execution_count": null,
      "metadata": {
        "id": "HblVRRCPS3mI"
      },
      "outputs": [],
      "source": [
        "node_labels = {i: i+1 for i in range(g.number_of_nodes())}\n",
        "pos = nx.planar_layout(g)"
      ]
    },
    {
      "cell_type": "code",
      "execution_count": null,
      "metadata": {
        "id": "KFnfMeGAS3mJ",
        "outputId": "b47a1f4c-d21f-4552-b4dc-d03a312ecdec",
        "colab": {
          "base_uri": "https://localhost:8080/",
          "height": 807
        }
      },
      "outputs": [
        {
          "output_type": "display_data",
          "data": {
            "text/plain": [
              "<Figure size 1000x1000 with 1 Axes>"
            ],
            "image/png": "[encoded data removed]"
          },
          "metadata": {}
        }
      ],
      "source": [
        "fig, ax = plt.subplots(figsize=(10,10))\n",
        "nx.draw(\n",
        "    g, pos, with_labels=True,\n",
        "    labels=node_labels,\n",
        "    node_color='#83C167',\n",
        "    ax=ax, edge_color='gray', node_size=1500, font_size=30, font_family='serif'\n",
        ")\n",
        "plt.savefig('simple_graph.png', bbox_inches='tight', transparent=True)"
      ]
    },
    {
      "cell_type": "code",
      "execution_count": null,
      "metadata": {
        "id": "X9Y4SwHES3mJ",
        "outputId": "b6dcf748-9a1e-463f-b6f1-09afc53d6e1b",
        "colab": {
          "base_uri": "https://localhost:8080/"
        }
      },
      "outputs": [
        {
          "output_type": "execute_result",
          "data": {
            "text/plain": [
              "{0: array([-0.875, -0.375]),\n",
              " 1: array([ 1.   , -0.375]),\n",
              " 2: array([0.375, 0.25 ]),\n",
              " 3: array([-0.5625, -0.0625]),\n",
              " 4: array([0.0625, 0.5625])}"
            ]
          },
          "metadata": {},
          "execution_count": 15
        }
      ],
      "source": [
        "pos"
      ]
    },
    {
      "cell_type": "markdown",
      "metadata": {
        "id": "gBo65F2qS3mJ"
      },
      "source": [
        "Create $\\hat{A}$:\n",
        "\n",
        "$$ \\hat{A} = \\tilde{D}^{-\\frac{1}{2}} \\tilde{A} \\tilde{D}^{-\\frac{1}{2}} $$\n",
        "\n",
        "$$ (\\hat{A})_{i,j} = \\frac{\\tilde{A}_{i,j}}{\\sqrt{\\tilde{d_i} \\tilde{d_j}}} $$"
      ]
    },
    {
      "cell_type": "code",
      "execution_count": null,
      "metadata": {
        "id": "f25Q8vUyS3mJ"
      },
      "outputs": [],
      "source": [
        "A_hat = D_mod_invroot @ A_mod @ D_mod_invroot"
      ]
    },
    {
      "cell_type": "markdown",
      "metadata": {
        "id": "CKEG6UCpS3mJ"
      },
      "source": [
        "# Water drop"
      ]
    },
    {
      "cell_type": "code",
      "execution_count": null,
      "metadata": {
        "id": "N_UFXgwDS3mK"
      },
      "outputs": [],
      "source": [
        "H = np.zeros((g.number_of_nodes(), 1))\n",
        "H[0,0] = 1 # the \"water drop\"\n",
        "iters = 10\n",
        "results = [H.flatten()]\n",
        "for i in range(iters):\n",
        "    H = A_hat @ H\n",
        "    results.append(H.flatten())"
      ]
    },
    {
      "cell_type": "code",
      "execution_count": null,
      "metadata": {
        "id": "nHAKC9l3S3mK",
        "outputId": "10b4c97a-6196-4909-f31f-29a8b8fbf641",
        "colab": {
          "base_uri": "https://localhost:8080/"
        }
      },
      "outputs": [
        {
          "output_type": "stream",
          "name": "stdout",
          "text": [
            "Initial signal input: [1. 0. 0. 0. 0.]\n",
            "Final signal output after running 10 steps of message-passing:  [0.18381719 0.20791335 0.20436693 0.13626176 0.13626176]\n"
          ]
        }
      ],
      "source": [
        "print(f\"Initial signal input: {results[0]}\")\n",
        "print(f\"Final signal output after running {iters} steps of message-passing:  {results[-1]}\")"
      ]
    },
    {
      "cell_type": "code",
      "execution_count": null,
      "metadata": {
        "id": "uaEtlK0LS3mK",
        "outputId": "b8ffd50e-e6ae-4fa2-e4c6-d1f0cb9b2635",
        "colab": {
          "base_uri": "https://localhost:8080/",
          "height": 837
        }
      },
      "outputs": [
        {
          "output_type": "display_data",
          "data": {
            "text/plain": [
              "<Figure size 1000x1000 with 1 Axes>"
            ],
            "image/png": "[encoded data removed]"
          },
          "metadata": {}
        }
      ],
      "source": [
        "fig, ax = plt.subplots(figsize=(10, 10))\n",
        "\n",
        "kwargs = {'cmap': 'hot', 'node_size': 1500, 'edge_color': 'gray',\n",
        "          'vmin': np.array(results).min(), 'vmax': np.array(results).max()*1.1}\n",
        "\n",
        "def update(idx):\n",
        "    ax.clear()\n",
        "    colors = results[idx]\n",
        "    nx.draw(g, pos, node_color=colors, ax=ax, **kwargs)\n",
        "    ax.set_title(f\"Iter={idx}\", fontsize=20)\n",
        "\n",
        "anim = animation.FuncAnimation(fig, update, frames=len(results), interval=1000, repeat=True)"
      ]
    },
    {
      "cell_type": "code",
      "execution_count": null,
      "metadata": {
        "id": "4gBDiqRzS3mK"
      },
      "outputs": [],
      "source": [
        "anim.save(\n",
        "    'water_drop.mp4',\n",
        "    dpi=600, bitrate=-1,\n",
        "    savefig_kwargs={'transparent': True, 'facecolor': 'none'},\n",
        ")"
      ]
    },
    {
      "cell_type": "code",
      "execution_count": null,
      "metadata": {
        "id": "j9vW92caS3mL",
        "outputId": "fe88c541-4129-482d-9427-da3fd1c2ef6e",
        "colab": {
          "base_uri": "https://localhost:8080/",
          "height": 1000
        }
      },
      "outputs": [
        {
          "output_type": "execute_result",
          "data": {
            "text/plain": [
              "<IPython.core.display.HTML object>"
            ],
            "text/html": [
              "<video width=\"1000\" height=\"1000\" controls autoplay loop>\n",
              "  <source type=\"video/mp4\" src=\"data:video/mp4;base64,AAAAIGZ0eXBNNFYgAAACAE00ViBpc29taXNvMmF2YzEAAAAIZnJlZQAASPttZGF0AAACrQYF//+p\n",
              "3EXpvebZSLeWLNgg2SPu73gyNjQgLSBjb3JlIDE2MyByMzA2MCA1ZGI2YWE2IC0gSC4yNjQvTVBF\n",
              "Ry00IEFWQyBjb2RlYyAtIENvcHlsZWZ0IDIwMDMtMjAyMSAtIGh0dHA6Ly93d3cudmlkZW9sYW4u\n",
              "b3JnL3gyNjQuaHRtbCAtIG9wdGlvbnM6IGNhYmFjPTEgcmVmPTMgZGVibG9jaz0xOjA6MCBhbmFs\n",
              "eXNlPTB4MzoweDExMyBtZT1oZXggc3VibWU9NyBwc3k9MSBwc3lfcmQ9MS4wMDowLjAwIG1peGVk\n",
              "X3JlZj0xIG1lX3JhbmdlPTE2IGNocm9tYV9tZT0xIHRyZWxsaXM9MSA4eDhkY3Q9MSBjcW09MCBk\n",
              "ZWFkem9uZT0yMSwxMSBmYXN0X3Bza2lwPTEgY2hyb21hX3FwX29mZnNldD0tMiB0aHJlYWRzPTMg\n",
              "bG9va2FoZWFkX3RocmVhZHM9MSBzbGljZWRfdGhyZWFkcz0wIG5yPTAgZGVjaW1hdGU9MSBpbnRl\n",
              "cmxhY2VkPTAgYmx1cmF5X2NvbXBhdD0wIGNvbnN0cmFpbmVkX2ludHJhPTAgYmZyYW1lcz0zIGJf\n",
              "cHlyYW1pZD0yIGJfYWRhcHQ9MSBiX2JpYXM9MCBkaXJlY3Q9MSB3ZWlnaHRiPTEgb3Blbl9nb3A9\n",
              "MCB3ZWlnaHRwPTIga2V5aW50PTI1MCBrZXlpbnRfbWluPTEgc2NlbmVjdXQ9NDAgaW50cmFfcmVm\n",
              "cmVzaD0wIHJjX2xvb2thaGVhZD00MCByYz1jcmYgbWJ0cmVlPTEgY3JmPTIzLjAgcWNvbXA9MC42\n",
              "MCBxcG1pbj0wIHFwbWF4PTY5IHFwc3RlcD00IGlwX3JhdGlvPTEuNDAgYXE9MToxLjAwAIAAAB03\n",
              "ZYiEABf//vfUt8yy7VNvtguo96KeJl9DdSUBm5bE7TqAAAADAAADAAADAAAoAvC2XGpYCTWuwAAA\n",
              "AwALqABqAAvIAa7Fv/+FI9h4gCmrhOnrywmZORQb5hksdk4nK18Pp2WlArR37m5LtFSSbr4yi+Ia\n",
              "7bLVO4gT34vZ6soXWM3QalFVLk2L1BpEa2lL4DWe/YkzdmeATDT8tcI0/xPwg+MfZ52XsQV2jArw\n",
              "WSOa34DknSb9QzT5Yc9UJNJuynURYuj5EUVOpNcXgi2+n7nmMwA42MBxAkRGTP6FuFdVhlM04Ivm\n",
              "Xl/+A+WVK9vIWf38l2IBA4KGOYOfKLU3dwd6lsvQgmnUZ6wQh2F2jmNEnBAdKyIfgUOdJV7OGOlZ\n",
              "u3uGqatCCVaHCB+fC2zPJK8gD0MGZ+i6bWl8ZgnROd0zr9QM56v/996Gy3Au4CPasE29jFRDy/0b\n",
              "9YR6Ju+AQA/CoTRF7PgE6LpvpXWjSecxEjiLyO3ydyHB4+hAGghygn7vcTvWMhU4E2NsUZLbOACy\n",
              "Dx2z67QIsn04QStnuWQTolnZEqdw7+LlL9HLxdZ1ErF+lnVvLxa1bmZRb7Koq3U0TwgLV0BopaGY\n",
              "opsFWGosUR9mteQ7jXZNBM1FIaNLoR55UkyYkVIam4ITQx0u07TuND3RL6hKFG04jnmzVd1dFlvf\n",
              "/txVoP1pV6yEhF1cUjnCTBu+M16F2betm9wBLq02q+MbjbKcXtX4HcCW/w5FlxfirHKtimZEsX1w\n",
              "dbgOg1rwWfISaxEw9pHQsVuPOTNsyn58vceXu7b4MYUomdS+RQjCyKjOPkjdQ230w3eF1yHd/obX\n",
              "tKT9NrjK1fFxYcD6a67cCqCQIKyZjlso+Rc4QTteBRDDhFA1HyviGU/wgXnanxjVjWX4OyM1B4Vk\n",
              "IkfEviWANVbtnCQLUAL19Ap4NUM3ZNiNdXq4O3kuT1eAUabjknCH1FaXTGVbMlac/pirMEMcrm8U\n",
              "RiYx2oAf3kNXwrRS6dzuwwQCu/Ewmr6jQ5NktwF5Y7bmd4uDrXQ95iNjezFGFd+3WmlO6nxx2xje\n",
              "+4My9trWi6BYeTVlEgnApZlCI6SQhUWR9mUvddyX2ZhWknlwTCyCl2pyWIBaRdUnykzneiwRkseQ\n",
              "85sG0pGihni9AE4ZvVOW/65En5pC6gj+jDkuDwrrFC27JHABuin/1iffvDNWgwQv/RzqjNr1OIbr\n",
              "3OKK304HwJDASbPUuY2G7qPATAKkKp2XYGuybp1hiFt99NmpTHg7QYC0xaN7TXpI5C3MAmK+xnvF\n",
              "0714aG/7+EyutgQu/c6nxMo1rv/jDjqF4uiKL/PCGSSvQ7/q5LOJpWU7D17Y0Wjbi76IeCf7vhbz\n",
              "dJDyOJGx77k6ufnkpkZtV3L61fznmts2hcwJFckZ7lA84iwA+uFsh4QsLIg4pcsXxwV8LNiy2LB3\n",
              "0Di4MYESR5O2Bdv//51Y75grgb6IZYcJjPZ3JUcEn6ZKsA+HWYnz3MfRrnyD+1udu+I2DNeHnr5z\n",
              "kdqHosoR+6QvYMBl5kcOEA1/xu84LCVL64Gvc2/w3KlCyx9zf5Vc2NiFAnDTz2WycVNtGt6AA7PN\n",
              "CyAX6pCsLukU6A01H+icSc0uOCgxkqJ4AhvT3t8j3Gdywde1USlUx6N4yhjBpJ3rXVuEFbh+thmF\n",
              "cChFkbR4PAdZ8U3biW0kbA+E8E6yHs4k4Q0JI3XjvE6fTHW9ZFq1gfnZoOg6sIcRv0rgHtvbMRyb\n",
              "tUBfYD7cfgU5PnblU7eWY4SI86SfUUgiq8If9U04I4D5PPjs0lkCOqr0saKRcOlw1SOV+pNcA0RY\n",
              "o3B60CQE5DvvPD2LqsKaTdMAYELoIqqzDd29Wyd8Qvcu8jI0g366hrtHEBulXx5uzLuLmD7kvwIY\n",
              "8hcCQkXHZsac7yz7yfoiDfk92UjmbAOnBQuaCl+F2EJ6j9+hHXeA9mgdwulRcN6xidFycVIpWRLd\n",
              "HXJkyZbxxpr5TTTAKmQ0TSAWry5WZ7TS1duuBcUsAAJOlC2YICTymIcO4uusir3wvCDX7tGKotGV\n",
              "Q4lGHkLV6Sa3zRImkPbhGQVDdX5K912hkm5M+80w9TnwAAAvOcytVKLYU0f67t5PuTkYXgaH5CL9\n",
              "1oR6UIUrZg4hBsUaWqC48+SA4sGYCyqUmJbsePMJ4S3xFfE7/dAOvLlQAAOI7ZK3smz+oqyepmnz\n",
              "5ix99dwDDeGfkExb+Wq0JsSiys7jH2UIf7ly98HZmWVIH4gJZ5iJ6rt3NYa09RAAB0AWPNCVjW8Y\n",
              "bZseGVRDExPrFKTsYBma8FyO8sMKRPgzUj0eocavsRlYMtLxx2ep+K+m0vO6yweLPKbjXHTjfpas\n",
              "e1+fwUmgAAgquRtmGayPLwQ/VzQGpNvEQ91sCd7zFhtaqy2d4eH5HTmdzH/e9LcqF1ahumn7rE73\n",
              "lxHNYZLZ3hJfWQyTgyEAAfzdrPKFjwcACGYgKxSsXAYl5Czr23cz18TujN/pzyuWNzyKGS7dLqqe\n",
              "HxeC0sbrOXi+oiQ/ISLG/r+/GQmSBgBoeJtAAAUAHP9uCLKeUVJPCukUn+A8KOIXioOnFfhWmI1k\n",
              "UMESaZM2xiM752W0gWf0bFnZ5Alsi3/c7XPHBZfKa8QAAC69suxGbyNyz/hxzUNG+n5Czvgk4IY7\n",
              "8W1LNmOUVFg6kPZxnA/SwiLu5wGUpWtI8WTze3MhA875mnnHhxoze+w/teti6R5G52mHATyVzD4Q\n",
              "EA/hAloQ+VctqWYb2eGLE/iCH84owULHsqJ4ei4w+8J4JfPbgT5cEO6aro6oi/IVFJIEs80fw6Eo\n",
              "KHf1OhQoRl8RRdcZVPJnn9R0qpxSdWDMSXx62yKOB57N1ujI0jHjDM+FSCFRR1d8Bi+CF+Ww+pXI\n",
              "5+owO5naoqgFKIXQLjN+WWtyC2oq5S7gAASE3BVeQO2r6d3nZPyVmoH5roNrt0VwGerf0TfYqFjB\n",
              "i32hIIlBjeSK2MgD9RKhfPIGzAuxGXBUKcp6Xsvi162QJGBtAwWdJSP5vNxH8Z5hxeihkEG02RUZ\n",
              "66uqBk4zixFbcdC2mW4y8qkOSOiQ6GzdZfmEAAAUlzrVlSi5N3V0FkaeG1qW0+FUawvliZj8mFkM\n",
              "3L3CfQtf1gePg5E6us4NmQMgjJTgOL/xIE9erO6TQCtM9FIfNzrEjIfjghhky4lcBmu1PjzlFGDz\n",
              "rFVGoeiUHrG9BDU8BKzWaAeyUOppxuvsv6dBI8JENMQXra3FPo+7/NoarAAAH2MxaSM9kvTMTgUt\n",
              "dTE84ZJl6A++BmRNQl/VgRzrn2jjmcUWFZlvAZk45mo5UwoHIZ7Zmn1/z8VdAQT4otwreYnDcOCL\n",
              "PasmXb2llMBHv5MdwDqNoC/6yYAQF+mUOWQ57NUzy4wzugcHjOfmRuYt0TtUzC/y7aI0Oxh3JDRQ\n",
              "Ti4k1Y+n2SI/XedsgqVy8JCjsgoR7KNqQu5a9tJULW0+u9oLeKVMX6JgzMZyxHVWX45n2Ox/g+wF\n",
              "PiJ5KmZMzyivvHU752k9MCVMuEIRUrtmYwO+syTTo98dx4eWV7GOdgtWYH4c76PrnjqFpFZi81Ys\n",
              "fpdRUDwPyKX4rgLg8vIjanREpdf14yNhTPHldA68KgV/bxcaKk70BXQJI/OhLmdeP7otJWPpWdRd\n",
              "o+NJ768Bp5btfizYd7rcQSpJPYftS7wam61kXisRQ+tP0mAW08ZErHgTQt/l8oR0cHBMoOAAGYHz\n",
              "SwICGy1CPvIR2wyu1LIpIRhlqSVF7fmkSCwFvXPZmRDdIWOZT8WBSWnrntvXqb0Xo2JJoMucS2hy\n",
              "8YRUWu1ldRRcr5vVmyEuk6BfRnnNxRiBOyMTyXWje4ELr60EQowamNpBUctbNQBrQoB1ikKBzOOK\n",
              "MWwp1z36bQgWlfWCk5sJ2YziBve0eViNRvPIlGoBjoi7vpQWgYDYqaFuDk+5dYfuWmBL/+OkR7ZQ\n",
              "oyysjQ7F4/TqJUm05JcMmMUsbP4Z6yrVjA4hZ+cc8xC3qyHvF11KpZoAACURuv1zcxAkDc1yUsSw\n",
              "reiSQEpSa8Fhc1VbqHm2M7noU0sLhoJb0yW3cp0cdc3prWuYVZcwBrkx17hwZaL9sGS6NE++NStt\n",
              "CvPPWndt24Hs0J9uGnMSYkK3+BDtn0wjiW9Q2Y3g5wqTBq8b1gbRqg/L4ICTGcxIkoySaRNvZGb7\n",
              "MnEBdI4e2yb0lJOF1FeSmO66/BBkC3Ia56yIIa8pbuVBjs/1zmZFgY+8ne22llnhWEfkBrt8KmKI\n",
              "y9gIPk4CRsChxPaLjtZXCwb3rljfvcEWlxiAR0AA1oYo96337aS0olhDEE6yMfNTtPOTaZUD78M4\n",
              "K4ZCyjRMlY9hry8yptvntfa1BacNTbU0MeT1feWSquM8faeJnETcuamQzvUU2lNMEakKSC4JkG/U\n",
              "sMnivhJSTNypfcihLz1InG1J/shczG84otyXQjwjIfNB6e9uBLIZwnwSSMsrW5KSPFXZyD9Wd0zU\n",
              "hznpftg3UB0dtsTnYh/4Mj9MPeNLL7cBNoiHgecXXh4wEKbw1d39bMJcumTLvLXZOp8ZKGiURVj5\n",
              "XVHokwEMW9mIAAXbr5R8hvU96Jc/ykis+AXX6znnfZ1wtcS+qtvD27UqlgKQ3XC+E1vHTXpTh0Yz\n",
              "u1+UxAArfn7ZN3M+Zn0kHsDNkQWJzLgJtVsJvscvEa1c7pmBMOh9QbtaLWuvwX9MpbdO4BuRfNXG\n",
              "N2cbcJRy4yGN+FK5VcfwIgUeLzST8gGMij7FfkSiNd+wNiuPHs2zbpaVC+3ZoPXuBATxSOZ1yBtx\n",
              "64bFGHRRc0lTUXLAJaog+azIg/DIDJmfv2jcsjIZnVeeNFIkPd/7qVKKehYp+UGOZFIsrPI39Lmn\n",
              "UAAG2BbqCZ6og0TaPu0Ly4pjEuxEttTcqTVcMaGV5dA+DZ7woIfBxY/a1jtOjup5VAh8uZdUHd3E\n",
              "cHkk6VgukM4I+W6L6N20wPKu2b9/mYG2MaP1rI90UzSliGNeST3MHvWvCkewefR7d9C9g/EpTabO\n",
              "ddMyfzGmcbdOd1sw3x+t6s5Z4bjp7mkx6fH7K7LC7j6faAXNlFQguxa3oOpz+CAEFm1NUfkWTjwS\n",
              "1Z4/FssuOwby50+qVorkFzzNVZqtHWHvIJXy2gcw7cX5Zr/eNjroeY1UOXq7qHkDrMUAA+rzqKpD\n",
              "gbGqRuZROLrkamNOzyijz5G5iWp6HqXKo52sAoYeu4mazdobtDZGB2Y3QDqzHrJ2ELajWWkUoVXp\n",
              "geNznoJaOWQBkcKPdd1ip7FDPbWwnSFELBAV1Dxmr4dpYzwdhJ/Rk/ntHcf1arZ0doGT+OREC2ff\n",
              "jsMdg9S79x497oU0o/3R9fxfVf+ILppCjW2tEGwyM2YDJtINz9kxzadde9hjKXDdP7vxKeSKJBLW\n",
              "7spbIQqll0mT6dS+BguM5+R0RTgfNuJFZrN/0Zml6aGzX1OPYx//j6/BZOISIAM+C6tL4NyHCZSo\n",
              "CbLknr7QSVM/OyPiEirb/vkz2jXuXPSKCm1hDGP54AfQ8iWazf2kY8c4vYDuVxEgFkU2MUHWG3ZE\n",
              "juoFrW2wB1rWgU3lHCxibF5g5VC9o+R8aAV/4Q/EzOr96NwUWCgDFFmYQHUpLNkqDxodBZT2fQ3e\n",
              "Vz46/kqwacoF4XZyDlEn/yt1xEMrxY/lUZYW2qdpBD46EPYNb+ORC5oiHmRmUzaQYSQqdwsqGQhi\n",
              "rdPk+Vo+zt6lBAayHph6y1Jo67CCKBm86IJbeaqyU7uq2RYY5hwWACzn+bOjV+y+of8kq4cjvcSb\n",
              "+1PtXXhaJ1wxsJmSJIt8Lk9wVhK3i6leWSmdZA3G6PANCRzptgs/aqgq9CQyBM/xhH9ywKQ8Rqe6\n",
              "SjkRIeP7ijjbJpBDTg3bwxmPQG/ESQ4S9Ed3MPXYBXVvka1GAbgb71JZRPbyoLrH/N/c4bFvhF3X\n",
              "IXW5M8NdDJl8eOMGSw7UZeLUfKEyXaXYIRxZ0Z6qBStebGqG/Sqf3rUXox/ztdgpNCx0/r0cUq3G\n",
              "JtqAvHSUKaUf6CwUmg5UIZRAZK3NaFaQ+M01rIAhAFC8pSGulezewscPg2flTNL8T+tDhVDvNNQh\n",
              "Em+1d/UGwJfDn0mDp1GBQ0AR4tzsmcq8ljwnUZma5N4cuzR2sybnGSvm19KmP3ewfujq/tmYDJqf\n",
              "TLosgzsxqd9A04uV/mQtz/n4arhOCmMY9cCZDg7KnK4Ib1Im2n54hYOh0jeV7R8uFl0xWL424jjl\n",
              "NSenG2ka+cIjbiiACr2gZxFIzfOdTXPql5cmbMpwoG8EFIVSeN5b/GvQItqIvelx8ZAls7uKqlUk\n",
              "df3KLakiefn7jmHLoAjplF4QmvxbqF/JCO4oLxVR3wDB50Q9UF4rPOJ6PDAQYD6oWOFfHGGTKyQp\n",
              "KBqKhL/SAnfQJmqhVlKb8NWgGqxuxw/yY/lIBZwvMm219UIrpZwq4M3PjDp3Yt4u6AvmDFD1sJsQ\n",
              "rJJqEqtI+cj1sZIj/G5ICu9Ug556kCC5KxVVePglmwup1L7c8JlwkOBl+XFyPMUYzwua2ugz0DPy\n",
              "wV1n9PiKIR6tT5HZct47T244GDvROIV+aNYgK8k7r6D2AZoOwM/J9ztws0LFcGg1X+yEmrXvAkO9\n",
              "OXCZE47p7r7uDMVv4kGV5R6b5lGfbI3BduNtYZkbRt4Nqmru3mogVLFSIR+s21+OKrNTYSy7Gmb/\n",
              "2O0DsmX6eIpDuz1omdE0QuH3GdfXvRUPHA7eWAAaoNlD3J8dVanFJuqQSjKA3m61TqhgpYBXXDW4\n",
              "bo8zMoTKi1cZdZZQ2CFUZL29pn7mR3oJySAJPRx2Qoxf1KlC37WdSt9oTirgoEwBJAJI2pf1rDT9\n",
              "cD0Dipn5Z/5O2UYbEgPn+nmol0WolQiiT0rvujtmRKxOmF1Yi2XM8dE6WXDZZy1vi/8R8iOGiKw3\n",
              "rGxh1lBfxk/3nvK/ZyErS/bOF5BN3QZ0kj2FEszGcqXrLaCdrrjHbhRzlQ28K0/uWetnKIthNqZX\n",
              "rm6ezKN3kOSNQKPQJgjgMFFNiFCy5qMlnxIiIrm3X3dBo/LbvYVxW9AOvSAPXZJTcCPlFy9Zf3QF\n",
              "uLnCP+Cocz+J4QWut8UHqKPcMSdfYx2mTr5S/SWPR2+QyOO1oAIe3qQEfTobur+qYAF96soZ8Bj7\n",
              "k4+sBdxfhO9CUTrTggcJLJo0NwKK1403HStqk5bZxZqqPWE93LXt9CalvNpXM3c10dwP5f4+FgX3\n",
              "PFFSpKay58/CPrabX8jxA+81avrim/52Yp60imD+oBh0XLn7nc0NI0OORr2L1XgVycOWwdci7jrR\n",
              "UzTyICUDd7jDuZqxo1nqeAKHg5/zkKRgdBNGsAPh96JuNFIzShORv7a82S7qI6CgJAC6bi5bQrQq\n",
              "s4lEYaoR9Inu3OOEfqj2qT921bBryiQioq5jHYI8EhVhlb6mbz9A8ifwsQszGgW1d5v2D0xo8+uG\n",
              "If5gtv3UvPZhC9mli1raEGL52tYjmHRrPyHmlmO5bm/TZJ6RUqxKwFcWR1kZZwBF8BL8VaDYpLbb\n",
              "LA3olDIIN/WY+HS6OPzWTJWdLCe/lkS5rmOG1lEGNOOHHcAMsu3ei/DvbcOi50yyMEl0HIpE9wlv\n",
              "l/Qqd1AE+2tQSDa4r2pd+6L/37TKzoVnZbUkkWr8DSPlwhp7X2PNY/w3l3V4GlgtmN9sW+QWYtye\n",
              "qrSpy3sDw9ezdym9iy4Nr3TCsAIKPq7dt5EbTNeNz58L7DErTM+a5Ikl8tiazzoLGqoI50oiCgBx\n",
              "NokQA3eEGk0LD5yAWdbyVwoHUGMSZ2gymgf99SraPiyXbPXY9InqDRukkIULQ4zUqY/R3tlv71K3\n",
              "wGSoVUAAHIWW7kSQ5Qmp/bIicaN73wg8a7GPToV8ajUs1p/rb8yguRwqXu5UMXMcZMLrPZPPtIAI\n",
              "znrniSlfV/TRTtlhTAACW7NZwUVDSSRj8RYXvjTiRg80fYfsxprUUooYUcTabuLdW4ooYrnhHMKa\n",
              "xqor5PSu8PMcTKeBixYAAGMBXx1ZpiIq9fOpiOWxu0w13X6kc2p7wx5uMAO/rWbF2NTvoWnqeHHP\n",
              "2kagLAOGdHQCqwOGeGDaKH7J+21+foAAcn+qPvYiACmhnbD0nUn6I0PxAVeubtkR0gcTFvdiWuqA\n",
              "mItiF4ekIRSNJE7KNL1RxjTIZClqL80AAMkaCLKy3+vQRtuyvljxMfTatazmpr5fkvUllNHfFmM1\n",
              "k74zrrqlXd4LGB7aOXa2fTC4fLchtC/8/NkQO5y3MJsAAAUiaQt/6gyxG/sh8rxFzbzJAl4kIRUU\n",
              "IDPZ8xENQ5mrDVA2+ExuENTlghxopgC0fHgDpJGVuvQYJn7FAAEGNT5oaGhKft3GNpMRkbgyO/8s\n",
              "kXa8WZcd7CoUazmsCPcaGsPHJSi9NmpJW0SxDVGhOykFo3AJ3J8QmpYA0IY9MkdwAAbHuQt/6g4x\n",
              "D4eZqwZbNqUAX3jLPJsjivrTDJPBE1gMWp1dJ0onRDitq6VoFkRfE5EWdlF82e/f9pEQ7zA/SxEM\n",
              "rCPMq4FBU0//PHr75TOHQVsfqGXrVFEz6qufPM79Kkz2G9RdiK3r1yX/zDc5skEbPZnExXnYhde/\n",
              "zwKigojNVjqeWh4zpnEA5F/l8ti6AJ3v30mx1+7D3tTN1uxexFKU4DPMzNBiNi6YAMX4xbfdWmsh\n",
              "DmVdJjyxPF96MCKYGK6QvRLD5PqIUb7yW419wsGp3Nnb6OCJtyz7eBOEkGfzdYe5zdPVCTc3NaRa\n",
              "nb3iUHV+prqDaTm9zMOKHbEuLo2zzbkTGWEZwrUmAoPkTB01v+elSXT/CBtggtM2jSaPGXthWBHf\n",
              "GHdp8tvK+dGdxUX0E/ZRfbvi92EkXJmgHPv2SPdyp+kc+AEhysXwH2k4/8mruLb7HBTGNDBXqZmd\n",
              "VN4c5FmKmPdROON94/tlnmOx16a4qYNmhXLxVsaPrvQ7Nw6N1KXnIE3vUGjbjVOZYAPEcIbcXSwM\n",
              "ToY/IgOdpXTQP2v1g9TE+NKsPMsNBD3eIjRsOjgOpzzJv0GNGLU3vZ3NXWn03lRZSgr/zipIdIYY\n",
              "anS/2taSjRErWtFbrxP5ipy/2hgJSzBVsLJbuntx8GUzTFPFNoN6lVXsOqz4gG8ijmUXwIDmLvBB\n",
              "l+563X6zSWqPIU5Rei9jOxwNWR+bdJDwyu+5oV2z37/32ljzNMMHKhul99DSk5XWTN3E8/A7T08G\n",
              "nqe13XlUhK03v85jaSyiy4U/k8NE7mD0F9RGLF8ZP2E1VQBHYTHXWn/cCAFrHxZ2BK08N8q+X1b2\n",
              "ZTu7GtTmN9TH/NzOih9JDDv+YCSA0od0ADEwTYgM7owvW23O8qG9UPJq+qLLzfUd1xbtENb4biYn\n",
              "0LAE1FwZrHeKaH0OUeBAAtixo2DT3wO5vpqYt7xipMKi4+MKOpWo9qb6D8dy9a2iKDqJ+4VAJIUm\n",
              "p1/xeDV/eEWqUlQDxyfudFzWzQgCPC8EzUijUOCgJZmS0g+LRuRXP+aarexnKxNc2k9INJxI2ReU\n",
              "l234A+cEZjl/Hgf/YPD8XwSkD2LdzEsAAuwRU47stLJ3l/cCt0f+iEyXVX0KOifV1t+DTCgdI/RU\n",
              "U4ttTOCCThlFrz2klVjisGuHsxdu36OqjvNsrpzEGKxzrQzF6tNUfiUW033+sr3GG5wQwr/XykZl\n",
              "4I7Ev1pGMPS+64wEBqLLMeTLJeltuVHG5jwkh2qLGpVP/cGoDhPqT7xpm+TdahDLkM9eOiQ4XfY8\n",
              "5iV10JhVZ2Zmv+9RK9aNo3bJp/SRCKw+I41MNxe4R4VQJKfqPEEaSfiI3FhfsCKdDEWmtI1OkiQ7\n",
              "tuZatKtnQA3XIwzdgR6NEutpH0Cne+C7XrAAC7wLnYJtQ3RtKlFkU/W5k2GZnRUaapAErP62kkuL\n",
              "Lh5ZLxrKrLQxiVpR4+s6rM7rNGbzbOmNbFCkq5nfbP6aYAIJk1oAAAMAAAMAAAMAAAMAAAMAAAMA\n",
              "AAMAAAMAAAMAABrxAAAOKUGaJGEYD6GVIAQFBf/+2qZYAACYOxSgAIVsQVWlay5C2TFxYbHlv6aU\n",
              "PssA/5qMiLTfTU/AM2QWDzkJeXefP0UVqz4hQL3APU8rnu6t2/G30h+URRkxzihxsNjM3ID1/AhX\n",
              "teyZcdmHSPXutJqxh3OZboZaU5yf8/3dVm9eC1DT3JDW/ccLbYScaaKLxRmB0tqAL7edVqWVCJFe\n",
              "WG5KnMTUF0NrV1uaO4ZKUughm/sCS4qig9ITWJsa8xBXhCU8wiUHkQMaVQkfPQVzveqOaJxEcPar\n",
              "RIPGQurNZyH1gwMa+ebu/zP78d7WPiaK9LKwNSMnEv5GeB4lcqgxTwwYjrd/DDyZLMQ8enQsuv9e\n",
              "FPclblE9Ri8jh1y06n+LpcMIK6rQzwfH5Kx+NplUh83rjVxsxpQ8TKKAZ/su5tjAtOT2YzzFsyP3\n",
              "cLZd2h+bleP8yJYrD7F9xd0P29J9DJ9Ect0Qmm2PoDHXL+956xI5Lo/cIwlGtbYLkUlPB1rWOvJR\n",
              "2dkaexrs6Qk4fQkYvn3APr9GeQZ7nqklR0Cqp0WgRQtPMjYoTvujP1iUdV352uiPEfHZqT2/C/eO\n",
              "S7tGe/QU1SEPn+yCcGm4xVHztS97DnNhcCN7w9X6su5aOOTK9XUXK1o7syYf9U+tHet6bhfayWGl\n",
              "KYb8G+7wMWMe+zXHJntx4p9LH7ExkcJt5KdiMQfSMQuT5kZJduqAnUPvWMAiXhufgTqt70KnNkCS\n",
              "KCm5jbydJMR37/0xtgUsb93/fueuJIj4BBEDdyHs93rMz5dGEfyjSCewkxiP4cA3PzzWhtft7iRi\n",
              "fgC3qRThFU95hh6fpSnjtv2/gLPH1lTU1APhDjtP65pxK0AlBce3Hq3CrX+Go1b3l4fwi5dctGW/\n",
              "gzDDizr65zXv2pIErsqZJTh1uqH9eUDsAQGQHiQZ4xPdLAkY0B/3pkun4eFSJLWWAQrBcrvOUWLL\n",
              "PhSKZ0aSDVNuMngtitiDCeB9bvHwRZ9TAJism3hB/zoZa3MqSA9NIl3PSNbFeYXoZYHpuLGqowfo\n",
              "KRIMNFjH55HgAA7ahe8CI8PNixzuanS/Lvk4D7Yjrq2jpvs9dsHA4PsPbHQyJ24tQjfPu6U7W5O8\n",
              "GcABnN8KQuU5q4VR0ekN4SfEZDFOkzs9i8fTP2WGQO/T7eWinyOA6IVg4riWxK+evOIOHizP874o\n",
              "Pk2j4G7nYuQc0krLZoryOnP15DSAsP61XlPE0oMANev83omAAAkeku+zASTtVCa3ek+ZgAAkcW4s\n",
              "GhLMnykwz1WvNQ+dmdnc3EPRs2okcjc5t4du0HxMp26FoLGGqfQU86Db+mdqLZRgyos2JOtAD9Va\n",
              "zDyUNKaSWa+ICxAhU7ZsavlCOngT8oWPoTjF/Kr5csPnQPLWd8OaTPPRqWsp2y6SEjHRZ5YzH5Nj\n",
              "v3YZ5N3KxRmKYmORRsMyaMMMkY7M35wA8cGzDxAKYyAYud6qfRWjXJ8qNTDbRCpKUf3TJ1/QTqS8\n",
              "8NbU9vLv4FfmSNQ3ADHYdqEyGiu2b9EJwYikD0e9c6GqspVkY3wvh8grF0WtnAG/2wumI0+fqa/p\n",
              "0JEgdwMpQXNiAAJ7xR9AC/L7ngK0xJj8tOx38Pn06LQK9c8XHmECAonrU5mBRvfnwe0lz5TGr9KM\n",
              "4WHEHquseQECfYT1CrNrqOnsmNBwxDbGw6ua49p2WPFGBoo5Z9XyO1SHsWQTjoKhPeJ1huJgH1cW\n",
              "mAeD2wIxEm+8Wa79z6JuCF7SsU0rteXdhZd4nBgG12MLQ10GrbHBBxPIbSV74KqZIRMWgFNrJuef\n",
              "4tknISbAKMj9Hm3/dSPYvftKEeLo8ca3ubVOl5z+AVXg4tpmaZVMjoEnR7Mzhf4Wuo0YE8MI71+1\n",
              "jLpuh4zhLX8vU+Dy3sG7hi/NxgPYUUo72Bl6A6F+u34pNdYQcqCPYtQycRay1aZ1KoxsnYbi9oyd\n",
              "PJadEA97vcPPwe3G27bskjk3OWrQ3DLJp6fwyPa3NnzACA40cBi3TUDkqtHqEbRoNj6DsVJOUp2n\n",
              "FKHkycAbeKbvvcMVWrbMfXB0CqVdRuLtGA8by0vhQnYbDDOiHv8FoIRnS05gQQxLPvOIhrSVyBQB\n",
              "aNHuIQgp18iXDXSrCzB0TR2/ApFPIlyfcjGtmAAJmM8mzB4oVqPCN5K0SsUj4zrDO0Q5O+k6Zfik\n",
              "SFikH1Cix2T2cBo/Xu7yCgyOOjQlzNG0ulzoWXq/EB0BqlDHSmbCx2Q4x6c/NuVrl4yBgHLE4nFM\n",
              "OrnPHXXcHDp8wOdwfXufWzF7lEvaMfXfi2prU4d9eujwVlcVDaunqrXuAcVGcaLd5YT9IzDSlcP4\n",
              "ycCV6FqC0HCSSk93F/IlLw16iky9J5hEgwD5T7LEQkk0BwFgY93ggquoO8lS2/CQHZiMuEqT8cl5\n",
              "7HXJyPEXHqml449mndipu7/ITPzp7woWOG1+MiXL4qZtms2hHUgyER0chPVsuTEcnFzyOznHn/EF\n",
              "+Ww6DPCQbOXSijCE+o+mOuBLGFW/cDGgFM83yejLXOzkaPnD8enFMiZ0NZXZ1hgttSuR7jeYhkJe\n",
              "u51NM+mVJ6xJail1HbQ0KE0v3hlXX13MHQ3NpDncacLvsCta46yHyOJXmT8kXyBibwTxbFi4j8Tb\n",
              "2Lgg5Lp3iT2ZNG+IyLjtp+QBQEiJLq8cDn5VbcIgb8Ob73uJ6/Fu58W921bp6hzdrlUNZfiZsiX5\n",
              "mY2VkCE/7jIZKYU1NJpSpACRsioIBNlh6l43Vf8hdcz/vatLM7grsNIwlpWLN1cm5L+/U5qfZ8Co\n",
              "Y+p5Id7VzlBepOLeVw1Ktq4ANNBzRwyB7rbb3H8jmQTPNxjpW3vTdI/LvT2uIUldukEvRHD6oB8C\n",
              "uxb6ZlHNhJMI+uh5LyQYzuljO4EkaSROkc8mxEQiRv7/BzBEPGknAThg5JWWPUI8iqtJo30Zagk9\n",
              "waQ7C1iRJKVp+CSuRYEDgQWsVqMKcalSH+o5rfkuigu/Ci1TNV0Dz/6jnVIzi9yYXxbXFs18RFR9\n",
              "0pwW3zj8ebaLT/IN77jjl82+BgKy2Crwfe/vAGysaqgpRYsEJIIMO26VKo1qp0pz/VQxbnoAAwbV\n",
              "mkVIFiJe1Rk/Un3nkhSPvrELzpl5qh0Jr5lOAFhjOc7qtyRn1lpv46wxLHGPG6zhK8Pqb9qjJjEz\n",
              "YVyKIsHC2aStArtV4bq/MlmlVUgAAESx7P9smWGpqN1V2a//7NQB6a//jcMf1ln0DR3YrwNgwWl4\n",
              "5/cqAGMTcK5+xNhYTb+cu1asumO765FqHSJ+zZDX/PFPknsUXBJ8HngejYsUbs4mStP28c6wRC8c\n",
              "V66Jpg3msCybV7cDkl5s/JRh1oZ7Us3qVJGBHZkKZiufyRoO/p3GZ2A6G/mBp4DepH+gwHD8SUdq\n",
              "5e4iQwDaL/EoJwJ0IKvwOKlz7AF+wRLjVPt6z49fZIaqkmqhYxdpHRscvvg67V7Ur1tKS6v10m21\n",
              "ku8e//8dXNT8Qwfx5BIn1newdtz/+ycoUkrUIw9SbELvjAvnsUzwfimhNGmFKfzQpj1RtTtDdU/c\n",
              "x3R3phyn9zLhGQSVtRmlg5Uz+DeFzyPJEtrtzbBNm31kt9h5ymbtHA79HjqEKQq6ACpuiqdMhjVX\n",
              "AU7DllnftUpDmCFRO8n60WWUtF75dOnOZh+4lth8xgYmMI9/CtYHzqtba6+CU9zl/sROqdyx/FDf\n",
              "TVULT7m1Brvmsnpyc5TbYBB2xUZQCl9xDeY3N5on5CBL/BaJmgb/qQvVMovuPgIrI1sg2dVZflb2\n",
              "2wQESPkT8bpG+i8PdP5QZFA5k+MRIZR68ysCLhXsOLwIMoryYv7Kwdmzs1TTc037oOZSdc821mnn\n",
              "Xq+Hp5iJwxPuqti3+xQzMBTk/gAfh8Why5XhXDW51IeLh8gSNJ5Yoi1JM3m65fkbEVxRNKCWJFpH\n",
              "VLlbW5RIs/5bOXSapwIbT+DUEO3aHi9zQqDgO5/0HJms+803MeHtrzpC3ItauUiNN59HgggDxnCv\n",
              "OXvfJwgRp/FN9t/rM4USFP4g+4M9VW8otIDG8V6+08VEVr7OH0dWa3Z3493459vScXssxvrj1sOl\n",
              "Ci3RlVXToQ2n4pWGcRgNTpmqPWOtcwxiCz2z8sqhY0yEitqa0ucwx+xcEShARNcCsf86W312fE1x\n",
              "WUPMT7bVMsFtrGD4EVBDlruK3IIQn4cTwVvPNS8vqnW5umSdeqD9kxta7qVGrJBPJODXTIjePwDT\n",
              "/fFmPgJ9iHeUWbCTlxvB3DRJ6u3Zbr5QSDZO1nqi1Km0xgrZG4VF8V84biKDFoMGTH3BPMdfZvl5\n",
              "O+PPtpElaBdoCwVQLbrxgq/NNJnWLl+98CAJ84WdPz1lEm+4mKTw0Hh7+ObIgN4q7SBniLuRuVxn\n",
              "MHGdKiy6cpVL8DUUpvRKO7/R/EJb5pDox2OEm65lX/rIvzXfG69MD8Oqo4w2PPCZS/ZKPQpbpxde\n",
              "pbB5cUiCMXw6cVmmUX5VX9+6OKEOZUwNbLOhWLjRVPTq3keOPYXGMxeTmf7kRg8BrBSyJIYhrwfs\n",
              "TGUVbt+eIuYy2G9jtuophZQ3paDGoEN5HIJBMJN3KsD8+eKX24BSIUY+etoJTk1CNC4BGyYOxl1s\n",
              "pSyoec9F7HsyT74wBa7HwRJyd9DKPVCVNyR/5IRk9qLO/kEK1BxNVm8VQL+cUJiJN9+OLIxJJiRE\n",
              "iKp7ftVZKP7ppeUCZG9jlzkTT9oXXm+4lh1wOX9dwj9JO/0iw2eXwg+3brMVoKzawmBOomnKObsu\n",
              "5OoEsQ6/MO5CKGbrl76jvQ6vqv3gH4dInNjHPp2Be7aQS1K09W0LaHfbN0R3TNAAAoYAAASeQZ5C\n",
              "eILfAAADAEEWmd45LHXah5QABu5/VSi0D3Jpwpde1KdCkuo7mjsF/FDpO457jDVmcCj042Toa0zr\n",
              "SMnjBC/SGywKJ+fYNSkkTxKfBLS6WHgkChO322PD9bTa8T88ErAOh5QSUzV9wi5PYO9m09Wba4bo\n",
              "R2+oXfygtxF+ghbZftydtSzwwbs1J9mhaq290RkQHbpQjcQZ9PrNAP0DLfbFcAS+NPZ+ZCwgh2n0\n",
              "4ALgocKeXpcoWdjUTsov/RYVey0pbarUCh5iJtR2S8hX8d3qsymwtriH+iMHyQ62RMoXKkAKE/Pm\n",
              "UCKbx3xMM244i77RdP5+Z4o9G+gkpI6w4ZUtyouMUxVOn8MEFwL/jgEZqkLq+NSmwacsCGkm0YhX\n",
              "7h6DfVDhgJHdOgBBeODBepb21RsegHgl3kPsuV9/kCGiKcxt6TyyIrxhRur5DLgu4kD0nXB3js0u\n",
              "OzLOOXlMrbNYgi2LHvfeuu9hsPVm9EMUfGbSgouP55z6OcEUvO2mSMvB9DeG73D2FiQFR4WBhVBN\n",
              "x64eOULAexvpseMVuZyhyc+eRzPFaFHHiN35syuTTlsieU8rgqjKNnBg79M7o5v3kePztDPQIVa5\n",
              "jWyArEpwiXFe4i0zTOHf3fIyg1PkYa8owTV9P7txPnZDlz+Jh9KRLYb5fQczv9vhHKhpdPOVvpSh\n",
              "7lGPDZGuRkK9KzXKojTwz/f8Yv/LitPnHm821sCgEL0mvZM35mdPRS7F6VII9/VXBxWuRUx0+lSn\n",
              "SoVCMKOM9K2vSezvHKAK54qeSUjny1aOk7IGCAEftWQt/JCzZSwmOU6yQOzID5jrBSCHz3sAFmju\n",
              "U96qrfF54qfE3ViVJ0ymf+zQedsrfX+pP4sEzJkdsimpJsDT51j4osxZlpbwbqNRdejSLtdsebI1\n",
              "8TgyHujGor2blxtrsaNDMwXDh5jwtK98R++IIVpzXXXav1081XWSRx/w9B9QyqLt2ECz7mm1Nyl6\n",
              "nfwYJGqJfWaRzNrERb1tHL46i5AIe+BI9sXAi7QGxLmFwuCbm8iwVl+fSMwWlfs5kop5oalPbAO5\n",
              "QuvYV+vuj3RT6slhDFLw4fEWLTrCbLOxQFSoA/VUqHQwAAADAACZgk95IgSh4/it41o+T0UdJfTE\n",
              "TRpMDR4K4MZOtj8XP0TBBN5K6qY5GbrSEhLkUZmrwn8PjuzBfAilB3TdFzstIP/CcB1/txDnfdFV\n",
              "RUKqEfX7oVz4VPXCvC98bBDFXbrI5dyPZGn90Z5+nozLGy9F2T4t1Kf7yWxl6vnHgIeNLypm9mM2\n",
              "UyG0qGRj1UetRFwpdVJ/pjslLKiDXPtUiXRwTT+MEQREQcMbefpl9pcLl/fNqlUCR3n9gUo70cmz\n",
              "5mEIUQppcGNmWgjIAZN+J6gkWlW8hc86JQD96KFk/F4RX6DoXigGVTfj0oZsXV1W4L6N+Vf5yln8\n",
              "w73YHHZKw8PwgC/E1NDy21nzeYFKXEi86Wj2VhgYX6W6mqFDp45Q97AlyBCfSgo7zFOMySaaGI07\n",
              "mSb/bXAD2gF9Fn7n3Ej6vNg4ST+70iCDH30qfM1t+cMDLgNUAAFpAAAEHQGeYXRBXwAAAwBcu9uy\n",
              "jaAEqyypdGGRcrsyd/i2cj4dAJSU9dBluQ6drZmkyohMYoy+GUs0Tw2tfRZ93hyARgwm0AMLk7v2\n",
              "H5xY3CW/hrYHbeqf94abTS/Xm1TKSb0in+882YXVjwyra8jOPfLsa5/1HiDAD6iecZLxKmx/1tQw\n",
              "AANxrySNjfKNFSwMrBYm/pd8MxCg0GsEBK0YIIAiIC+D0lYqlcF4nYhNnqAAAJCI2I/sh1sS0Cl6\n",
              "HUHkfC9roXZX4s8cALmSS6S86Fcm8RUkK0otsGsBnvTCtAmfHGaNwuUSC6kmeU08sxwYjsKOQv7o\n",
              "AaToVViXLfANTX/xP3hOEApiwOTsMl+uK14JVqLPQr/XuyFxDbGJwnjlD6X1blMXkoXvFUyTAHQ0\n",
              "iGkeNiEvANjec7+kc+23pjQWVANclkPA2p3iYicmYlihpMbheYoKnOUHKkyXDSrhxDGnz/JvH4kG\n",
              "88imUgSOtbIX6LQrWLAE48FwqNVlTgtPEIT3hkytd9FA83+V8rHNEDlIIR6cScp0Bqt0pj6BmwmM\n",
              "G7JlDbNfEwmilKGP1OO2zTVk6q7U7HK2Zg+OpkRYJ+ApVmlzqax18WpXwQpSWZo+nO4UAqxM3Gw4\n",
              "YX4oZyu58HGXw+rS5aMy1IdPKgyRRxhAC5Ec1enc2bxzRsXzN3lMmqZeGvbSE7pmQC5PAmXu57iP\n",
              "WmiuKhrCOe2UsGgPy9XG5U/7cMjZAQ5MpvYDzwrOV8Qbbd0epaPQtWmjjTESAF2ob72zELNoK1iu\n",
              "4Fb9VrGXMWtn31rBCzf20r3iKnW5g21DJhH9T9yqkprv9O+oEK64QkPjwf4CXIrsljRPm9axXEu0\n",
              "2r4Beo8IgATr7qDVlLiTmEOljPqCtdNN0bKF6QAFLUt3s6NEQ3JLO3Tvb4L5SAWwX0hWgtpNJsKZ\n",
              "FRMMgChfW7TdiuO7hmgL5eVbWzZIYyDnr2gYY0pueaPVOSj1bQlyNCMM/eiNvbTYkE+AWkUUJMOR\n",
              "ID8cAZFRV7IMDvcZBAo56NlNcIyrRFqi2+MicKqEbgff6qecFDkKTqEo5icNQTH5pb+SQ0+mF42I\n",
              "qBu5LinbHpNadFB9tIf62mI7u/IsPs3N8KgdetSGFHBXon7cJO0Bp4UcyVfOF+9RUv0RDzhHnvtw\n",
              "INdVrzMEmnka0WcjikBi3aHP7piWmdRPiCNG9i3qUPiz4jMEEFKpj3/JUptsavpSriQANK55WSjY\n",
              "nHIHxKz7xPc96wyPK4Bh1sr4I1OjorFUIvShd7PPqBrtBhergQMdVg0kHLqAHurfPrCtGZ9B20MP\n",
              "TN9rx4r+0hZNB3Rmf02N5RSP0NUErX+2lGhJp1f8NRsr1qmnpzPvqh5DyCt4jmyfsSEYabIXgzGy\n",
              "OecWAua5CrrSAAAf4AAAAbkBnmNqQV8AAAMAZq2jFmiX4PADcCUObwnPiDQ8tzNwkUS0+fB1bJUR\n",
              "XyP4EjfONtBcLvPbaXWI1/3OINpPz4j+whDR+vVKfFcXR6+xtAuUoqfgAc+PsZDeOsa57I9+1Db+\n",
              "Xn2MenBUttkx07gGPxaYeU7INOS5RrpYz+7fJlxvdjByxsIDZylRgB0pH0W8BC3AychGR07GH/Qv\n",
              "fy/FGIILnZeX+xaMVkwASAV2rD5p5LBhvqZxufwh3SjojVdHOYvLOBOG07uO6zhIf37ZRSMxRoi5\n",
              "IL1Bsye7kDYC6GrchpG+sdK+mv5dtr+1PTfxC/+et29Ob0cu0oI/4MFzIaReCiEEwiTILCEycFkf\n",
              "txVxs8PJRUGVbGrRKcy6Jc9vTiNgzcEQTNETn4GK6o+ePfa4ll2ZtJFSanoDq5sqAF9oR4iDbrev\n",
              "IV7kb3JD1VFdKHvbqfY7MKXHQ0MYG71VOS/qtjDaZ5WjIPvwa+4qxOubCnNH3BSSqicDhimfkaZn\n",
              "ZhYkPv/khK2DigiEWt8v8guC2j+cUfh3/VehLN/aGttuRRgJ1YsxfOjKSPHwOwNiBb+gdqx3iAAA\n",
              "Z8EAAAdSQZpoSahBaJlMCC///tqmWAAAjP8thhkEVYAcOfnlPrN++718YlVzC8xg2c0R76n0imq3\n",
              "kl3wPbiC8JTNWfAlSbuo38bI+GFOkDtPPnC92HGzHGzSnAklm4Bu2P1Ekm3xoHQV0I7HWwe0g+HC\n",
              "nfLEYiZ0Qr0WB3FAPqOa0ezNSmRNMyzCIFZ3oCNOF0ojxcGZv0Pvzsx+HJssYpzXJ2YMXAPgJlt8\n",
              "4yz59CnY0wqBmpLaf7nMahe+yPpJySf4baFgctZ5eTbU5oMcl5lbCoO6KsQwlZo5uCcvD5GzQAVK\n",
              "Jam0yUPBBxYhrjykrRc/aUd9Hdp0rX46Uv5/hGiTPA/f3OCnEYqkppzN95RjfdKa/9QglcqEy5Nn\n",
              "LyNieKJbG3180SewzhfDr5G6vDicw5XNDKTKr/nxDm1nJ1ToQ4lwGPoe5XF+uO3fBODifdAIGhjh\n",
              "0Iki3JVU/Kf4heiOFM7ye0kOETzMq1C4QdNrsEpcJDyVPdBjsBh/5jdwpsgs0REPSOULeC1GE8f+\n",
              "sAbaFuxEA1F4RPm1y3wzICHBSsi8v8dE2ijZ+XZ5icmVanY79Jlc7VJTCaefLGR3dGK96j11x7HC\n",
              "rFUePUsHPbMhqNWBYb9W/PIyoDje/s8uyv1d+aJ4kny9QpB7bYjta0uz6O4oUeEMDyKqm49RISZk\n",
              "esLykZIiZv60o4/AiZaaYUjVMVYFZPn2OpUWFKVcqVdV4XzZSxThMWcH0PQ+bQ7/fJC5ToqXZ/ij\n",
              "wtPXyPuHCibWhHPkI1iiCmDGwCjSMiUBlnEzoBIABeMDdq4tC7886RMbC+GjJSU7oPodC1pBte7d\n",
              "SqlABT/fKqPURaxW2ZI99YfQ3Y3pxrjge4sO/omgdK2Ww6aq38ttCcA7Dhav37m/FK8boZu+D003\n",
              "jVxxrxi8DmwRIkSsgvLnzLfHWs0tXmkWyvkU/2lYw1cZ5uxOc2nBE88hbeCRAsudup8+j6lQYVLM\n",
              "zKESEVXX3+uKMXmGM2Vc+BHEkbVkQ0dQmfGChp7Qy85vbZbSBAMAfCggZuojFP4rjMmU5UbOLz5+\n",
              "IeNWiENWwt7E+9WOaKslA8PU8URB2o+woatf570ocJb7QAA4N4BspUBCr+zqDzqsdLe+dCZxuinE\n",
              "xmUhpNcnJZGFhgkprGqH1P/qjCS1lEn9qVI4ExuTNlq3CLVxzTDrWOrZjsilQzqLKSnTHkbNJiiW\n",
              "8KnzvuvSrEBgSBn8Lwsf5G8IH/9+VILB2aMP/Mo0exYoF8w4j+U9UMy6ETC/UU2ovlBIWYDYXn6R\n",
              "92Stm70FVba3GyQGSEhaxBYkh+0FBjYOihWHnHJYUhlG+qPNv5tyCoLiCAEQx1tbi2ZiHmX6Wvyf\n",
              "CaarwxVl7jA+lVMg+md3qu/vcCVJJrB5UEvZ4Kh2vyxZV3cUwtZ6RoXSwVd8BsYqLvp6G9YcPtZ5\n",
              "KmkFQQ7hRAxuSgzbKvMmDapmlupzk2RM8EQOqQ6aeigAANr6/83oWMDpCBEwcT46mgasJ5/hglV5\n",
              "qjNOFi4TLKsUmh3f7HSwBdKeT8TJHg7mz/vEGe6cpalvgPkCvkCDJQJe75pUwnChLRdbcG5hbc6o\n",
              "MSvJ7dIcdOTIPZDzYhe8x+Q4q1lRK3x49FHpRRT37gr9cfTMKSGWXB1cfKCE8QeTfqn3oKN5U/mI\n",
              "GZ1OQDN2FEbi7EYPcS9hwzfQgWCDo2pDrAACwxjF/zP3lROMOCtDD24WHz+s0XCZ5T/90aHsEuQ6\n",
              "O3zF/ZH8iyDdkQDsImRr2bhVNuDC25s5gl6JwfWhQQl+/cMlYP7xGD9ZdJe+b7JuyYYIDqp2mtEJ\n",
              "cGbGYVDIzbMxo7z0nMiHjEiDO/pgAMZZUcj2iE16Sf8ZZRIYL+fVkQ3d+aOLcuGjV59MFdGPiJBB\n",
              "fNYN1tuq2IbzkgSBn0XMU1RZzdoomh5k4nGbA4ID0BDg4PvJg4XQvVJNN8AuytDCsnz6ZbedPBGj\n",
              "XL36kLdESMh1Qf+Nea6Gr8dDbNsDVYxUvLe+axb8nkxguchdt1hjztk2jDQeEb8pefiba3PgHylx\n",
              "80C/obj1WadH/3xGwDvC+EfsiJsC6TQYRmGeRCqKlXkX/TVSZ6la9h90NYtlA9rM8XRRMbMgcYkY\n",
              "1Si/B704WNOdD9pMDwrhWi9MeslQA8sCEjileVqrOnLDxuhOzzcD83RFueWqHUSBGWzL2NBZY0sX\n",
              "VHQpTHc12hBAgNcwdSdKuGn1FnenEzSw0ZmlorS2tM6pSggjyG6jpv2RqR7g8bW+cnsmNAen9VFY\n",
              "0VZbXWq4lDi0c0UN8K8kJpyEfPdJZ7grEc53VzqHd7kLOcG6D5PBx2Ta5hluR4wlW+aK95MUVibL\n",
              "PYGS/JyITtVCaulrRSh9oNOqNmKT6XWSBwgzqiCebcY/3l/M3U6/RJo0NhbYeHsz8FMmKn0uVaWj\n",
              "Ye284QDija+eFJpyG3TVQSzIJ30/LTE5+MNyUZ9JsPMVFFJV6kkoYE+fQTcFDHHVCuzngwAAEvEA\n",
              "AAHGQZ6GRREsFv8AAAMAQRYSU/RCSTXIKJJAQAiWfJEewzq698ir3cxIWr46lRht3UNIUlxHnNqQ\n",
              "X4b0fdflmQwWAqvRD54p8JhDPeOizhSJCuFKp4YL07ihWbVM/fSZmSyASFcq9DovwHa2R7Jq5zGw\n",
              "rD1x8HPoN0/Dycp8xMig6kCRmRFZkBl0kbdgRP7/twh2w49olsKALRMQJm6rNK7VyHnqfpLfmRVL\n",
              "n+pUAPDp+4gz+hp5IV5PLcr3dyVGjzywcabY8dR5wj8ZGIgi0+5+758q0BDL7RZHfojB8kNp4L9p\n",
              "o0Z548d/M+kxmHeYGNytnThQo9QoUbCvb52gctUAwKUoBoMmJ+Kbf6517qAScXTg7lGBD/XdbQxw\n",
              "R8g0u1O11TGnIuw/hloVJuPFAD5JabQZICAR/L+6oNJxaEDi+/IsF5JTcwByDC3J0/Vl5GlfVjgT\n",
              "DmQIbRKhVqQxhLAUcEPDrymQj96Qq4ncQMl2RCMxEjmw0CRrsSYHZXoCtaHvRywiPEqzIXn+18Ip\n",
              "ELAerg1QeOb+5RzLSBsI6aosoScCO8lffT6UBH8eLIjXA+ejk+8gnGnXNRo9fQ18aN15GC9gAADU\n",
              "gQAAAbIBnqV0QV8AAAMAZqpcTPH2oUACc19TylcmAbY3fS9rw6Z83ozpzsErq0MOpJMGxTXHquno\n",
              "PDk6ixpESq5xq/53u3sTAdi+amnpjvB0hlS0ccHFWHDHWorXbFC3NYhsaFjLimGqpcIU0Eyzmale\n",
              "5bssxy1OX36L4kfGopD0TpG+qIUuQxZkYEIG0E8XPpc3HUY+5ES7+/knjhV3hYrKuZpdD/JdVJYR\n",
              "+BBg36CG3+pmzJrowK5k2bqQt0Lhn+wzJMEMEZq7snPA9MdupqvmnFW6CJX0U3GdEJSG/jM9dtQQ\n",
              "e5ScWACqJ415C/BoTOIDerIdv+mv5dtwR1qL8g4+xQBkP6bMU3qt3vtIIyXzncDA0WDF5Cvu8CAE\n",
              "8CCeNVdzS4XfoU5FmgPlt1WX1rZYfTAa7kK5j2kwmAl8eACfNkS5zeWgyXSZFfXfIYwEpEEiukg/\n",
              "njUbf3tx/scUOhbMPqFUsDmvt9w87+oP48nRqVCbiaBr3kMbOZJU2xM+IjGcoKEb+XsfPMVhiTwG\n",
              "biNqImSzTxaayJ4egejQ2ez6Y19JwWOrHfjIMa5wrt57bL7AgAAH+QAAAXQBnqdqQV8AAAMAZq2j\n",
              "ESPSkAC5ZIvLUHnkXaRQftsjX6PT60aT9lmB0x56pVFlT06lIPJtelnblrXc3TwHD6ZOYT8hrByD\n",
              "OCAvAfkfo6pBJUt44gJGklDlYTaH55Rp4MV7pJcN94BBcISMq5SIghxH/TpWi8Y3qvHE+PFzPfNJ\n",
              "wtU7QMA1WGgwsHfhM2xcQHlA7uuUSy9HyEt2HSYWwli1u17D0tNwMnHvmrNASzC0g/7KlrPuut9W\n",
              "c36FXrKvZirbR7Xei+Z6hVqwS8YJVaDtWvCYamy/Ein9PUgjRSR4kO5EpbBS1ZH6H69FOUQeIBwx\n",
              "VtXv15kGtMdIf4tP5lD6V6r9a4U/PR8dpwtEYYPGtjhquMd791g1w4c7VDfm/aAMMvPJU7vT+lG8\n",
              "OnTFjXpSzC/Ft2WyhKFLwc1whcEx9yVx2v0YspcE/QLJcFP4+gEbLfdF4QC9lo+9EB3midnZH81Z\n",
              "q/c5eFWk58H90MdivIAACygAAAKHQZqqSahBbJlMFEwV//7WpVAAAJw4n+CU+Tu/Pw6dQ/+kW1Jq\n",
              "oAQiw/R6ww+ADIaqblGFynVTN9jOm41YwgjVPswh+W7iJjLnmXR9BnQljWw/bxnmXWf6Ub4Mj3Vw\n",
              "C1RUJcMHBRV7KlpfWYQsZb4vVFfPw5wA5sE7lB9MojQD1C5FcIdtkeMypo4koNxKH3o1Qnr81st/\n",
              "DRll/h2lYbp5FcZvBDfU2DtFNkJuof0YlTbiZ/c0QDkrOJ4IGnhYOJci0qSh/ws+8aCZfYiNHEnn\n",
              "cqNxLwWjoGPMsUViORx0RaHMRs7sj1HkRs8AbTuObi9WtuVbuEPwkCajRC8jiGBtLmZf9q3k326w\n",
              "PlU6YCRrkh0TPd4m3jyr2ogLLXtSc/QkxtnuvkfslXixW6ZYfu0ww1ndWnUfA97gH0RMS8cN9W4F\n",
              "lXE9sW7YCbqhZ5/eSq/XAxSC7ODMopbzK+WnjP0Qc+/JMHN9dzI/TpA1JrwWQKzZBvYvc/MJGRKy\n",
              "nnmsKHa4GyGZQngAHJvc4IgJt/lNdCQGD7631VJT9g/46KWTAaIULNM7gsZDyjskdu4E/AAjvNrR\n",
              "dQr6Uq9sl8jJ1A5//FL7jChJjvfAF4nGvGA3Hjp2D1pQm0Jc20V0aq4JQ7urzyPkepC09AkHZAAJ\n",
              "U4e/ut2x04EG4Hl+3mduJ4no1ergXM9OZKxXWDqKJy6u9rmu1G68uJiCgpYrKx3XuFz8o5VCGmEq\n",
              "XS0GWMygv6PnRWnBbNZukkzHxXO+q0QRREZy7xFowO7Psvh3cSAeoSchfYEmRikxlxLEhIlmFPiQ\n",
              "hpktVUoWKndrQrX0pt1P1tgxOZPOsn117eDuhgxyjVqECMKL+AAA6YAAAAF9AZ7JakFfAAADAGkt\n",
              "oqM5CQ0KYzQAlppGZasvGct5wEh0X0BYN7YjqKR3zA89wVOsENHQmwYZkXpNYJBIiih8niw5pSYQ\n",
              "WHu7MqVWsTmN8+O3tRT+J5v8i1DrPAx7anQ7F4jN2AtQgZWBi2excOMi+5AD/LVZBWJ7HprgKVeA\n",
              "AOapehZCKf4PTBceiGsdd3W65H1Mj0nb6ngfpk9ff8QPLIGOKqf/E2Obwz0jW6Skp/i/PXUf++8/\n",
              "fdkn2R2/ZvOYD/vM0KcxhfCIwlsDJ3D+ttR7WB2a5trP/3gYccPT7G58g2KZqJvhfINHLr75dTDj\n",
              "oL2v5Kf8vEyXrEXihWlulG4i7a0iCpnINPYJpwHtiwt86+jTsfKpDF/k9A8SrFSZ+PU3ZuFl36mI\n",
              "YYSoILc3lDvP54G/52OrXkbAZFUq6jZUvR6rcjHH6t9rI9W9dEazGEVd0Dt09AW1nOizsRh7jPL/\n",
              "Um/rsX5oqHWVGfnqJQ/UU3UNlXaBP2gAACvhAAADuG1vb3YAAABsbXZoZAAAAAAAAAAAAAAAAAAA\n",
              "A+gAACr4AAEAAAEAAAAAAAAAAAAAAAABAAAAAAAAAAAAAAAAAAAAAQAAAAAAAAAAAAAAAAAAQAAA\n",
              "AAAAAAAAAAAAAAAAAAAAAAAAAAAAAAAAAAAAAAIAAALidHJhawAAAFx0a2hkAAAAAwAAAAAAAAAA\n",
              "AAAAAQAAAAAAACr4AAAAAAAAAAAAAAAAAAAAAAABAAAAAAAAAAAAAAAAAAAAAQAAAAAAAAAAAAAA\n",
              "AAAAQAAAAAPoAAAD6AAAAAAAJGVkdHMAAAAcZWxzdAAAAAAAAAABAAAq+AAAgAAAAQAAAAACWm1k\n",
              "aWEAAAAgbWRoZAAAAAAAAAAAAAAAAAAAQAAAAsAAVcQAAAAAAC1oZGxyAAAAAAAAAAB2aWRlAAAA\n",
              "AAAAAAAAAAAAVmlkZW9IYW5kbGVyAAAAAgVtaW5mAAAAFHZtaGQAAAABAAAAAAAAAAAAAAAkZGlu\n",
              "ZgAAABxkcmVmAAAAAAAAAAEAAAAMdXJsIAAAAAEAAAHFc3RibAAAALlzdHNkAAAAAAAAAAEAAACp\n",
              "YXZjMQAAAAAAAAABAAAAAAAAAAAAAAAAAAAAAAPoA+gASAAAAEgAAAAAAAAAAQAAAAAAAAAAAAAA\n",
              "AAAAAAAAAAAAAAAAAAAAAAAAAAAAABj//wAAADdhdmNDAWQAIP/hABpnZAAgrNlA/B/5ZYQAAAMA\n",
              "BAAAAwAIPGDGWAEABmjr48siwP34+AAAAAAcdXVpZGtoQPJfJE/FujmlG88DI/MAAAAAAAAAGHN0\n",
              "dHMAAAAAAAAAAQAAAAsAAEAAAAAAFHN0c3MAAAAAAAAAAQAAAAEAAABoY3R0cwAAAAAAAAALAAAA\n",
              "AQAAgAAAAAABAAFAAAAAAAEAAIAAAAAAAQAAAAAAAAABAABAAAAAAAEAAUAAAAAAAQAAgAAAAAAB\n",
              "AAAAAAAAAAEAAEAAAAAAAQAAwAAAAAABAABAAAAAABxzdHNjAAAAAAAAAAEAAAABAAAACwAAAAEA\n",
              "AABAc3RzegAAAAAAAAAAAAAACwAAH+wAAA4tAAAEogAABCEAAAG9AAAHVgAAAcoAAAG2AAABeAAA\n",
              "AosAAAGBAAAAFHN0Y28AAAAAAAAAAQAAADAAAABidWR0YQAAAFptZXRhAAAAAAAAACFoZGxyAAAA\n",
              "AAAAAABtZGlyYXBwbAAAAAAAAAAAAAAAAC1pbHN0AAAAJal0b28AAAAdZGF0YQAAAAEAAAAATGF2\n",
              "ZjU4Ljc2LjEwMA==\n",
              "\">\n",
              "  Your browser does not support the video tag.\n",
              "</video>"
            ]
          },
          "metadata": {},
          "execution_count": 21
        }
      ],
      "source": [
        "HTML(anim.to_html5_video())"
      ]
    },
    {
      "cell_type": "code",
      "execution_count": null,
      "metadata": {
        "id": "kaC0x8LAS3mL"
      },
      "outputs": [],
      "source": []
    }
  ],
  "metadata": {
    "kernelspec": {
      "display_name": "py3modeling",
      "language": "python",
      "name": "py3modeling"
    },
    "language_info": {
      "codemirror_mode": {
        "name": "ipython",
        "version": 3
      },
      "file_extension": ".py",
      "mimetype": "text/x-python",
      "name": "python",
      "nbconvert_exporter": "python",
      "pygments_lexer": "ipython3",
      "version": "3.7.5"
    },
    "colab": {
      "provenance": []
    }
  },
  "nbformat": 4,
  "nbformat_minor": 0
}